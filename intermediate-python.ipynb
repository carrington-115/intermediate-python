{
 "cells": [
  {
   "cell_type": "code",
   "execution_count": 9,
   "metadata": {},
   "outputs": [
    {
     "name": "stdout",
     "output_type": "stream",
     "text": [
      "hello world\n",
      "hello The length is: 5\n",
      "nice to meet you mark\n"
     ]
    }
   ],
   "source": [
    "print('hello world')\n",
    "greetings = 'hello'\n",
    "print(greetings + ' The length is: '+ str(len(greetings)))\n",
    "name = input()\n",
    "print(f\"nice to meet you {name}\")"
   ]
  },
  {
   "cell_type": "code",
   "execution_count": 10,
   "metadata": {},
   "outputs": [
    {
     "name": "stdout",
     "output_type": "stream",
     "text": [
      "Hello mark; your name is not Fru\n"
     ]
    }
   ],
   "source": [
    "if name == \"fru\":\n",
    "    print(f\"Hello {name}\")\n",
    "else:\n",
    "    print(f\"Hello {name}; your name is not Fru\")"
   ]
  },
  {
   "cell_type": "code",
   "execution_count": 1,
   "metadata": {},
   "outputs": [
    {
     "name": "stdout",
     "output_type": "stream",
     "text": [
      "Enter a number that you want to add: \n",
      "The first number is 4\n",
      "The next number in *numbers 4\n",
      "The next number in *numbers 3\n",
      "The next number in *numbers 2\n",
      "The next number in *numbers 1\n",
      "\n",
      "The result of the addition is 10\n"
     ]
    }
   ],
   "source": [
    "# using *args and **kwargs\n",
    "# *args is used to send a non-keyworded variable list to a function\n",
    "\n",
    "print(\"Enter a number that you want to add: \")\n",
    "number = input()\n",
    "def print_numbers(number, *numbers):\n",
    "    print(f\"The first number is {number}\")\n",
    "    for i in numbers:\n",
    "        print(f\"The next number in *numbers {i}\")\n",
    "\n",
    "print_numbers(number, 4, 3, 2, 1)\n",
    "\n",
    "# another approach to add numbers\n",
    "def addition(number, *numbers):\n",
    "    result = int(number)\n",
    "    for i in numbers:\n",
    "        result += i\n",
    "    print(f\"The result of the addition is {result}\")\n",
    "\n",
    "print(\"\")\n",
    "addition(number, 1, 2, 3)"
   ]
  },
  {
   "cell_type": "code",
   "execution_count": 2,
   "metadata": {},
   "outputs": [
    {
     "name": "stdout",
     "output_type": "stream",
     "text": [
      "name: Mark\n",
      "age: 20\n",
      "program: BTECH\n"
     ]
    }
   ],
   "source": [
    "# using **kwargs\n",
    "\n",
    "def person_data(**kwargs):\n",
    "    for key, value in kwargs.items():\n",
    "        print(f\"{key}: {value}\")\n",
    "\n",
    "person_data(name='Mark', age=20, program='BTECH')\n",
    "\n"
   ]
  },
  {
   "cell_type": "code",
   "execution_count": 9,
   "metadata": {},
   "outputs": [
    {
     "name": "stdout",
     "output_type": "stream",
     "text": [
      "Enter your three favourite western fruits: \n",
      "Your top fruits are, Banana, pear, apple, grape, \n",
      "Enter your name: \n",
      "Enter your age: \n",
      "\n",
      "name: mango\n",
      "input_age: mark\n"
     ]
    }
   ],
   "source": [
    "# practicing *args\n",
    "\n",
    "print(\"Enter your three favourite western fruits: \")\n",
    "fruits = []\n",
    "for i in range(3):\n",
    "    fruit_input = input()\n",
    "    fruits.append(fruit_input)\n",
    "\n",
    "print(\"Your top fruits are, \", end=\"\")\n",
    "def print_fruits(fruit, *fruit_entries):\n",
    "    print(f\"{fruit}, \", end=\"\")\n",
    "    for fruit_type in fruit_entries:\n",
    "        print(f\"{fruit_type}, \", end=\"\")\n",
    "\n",
    "print_fruits(\"Banana\", fruits[0], fruits[1], fruits[2])\n",
    "\n",
    "# practice of **kwargs\n",
    "\n",
    "def print_info(**kwargs):\n",
    "    for key, value in kwargs.items():\n",
    "        print(f\"{key}: {value}\")\n",
    "\n",
    "\n",
    "print(\"\")\n",
    "print(\"Enter your name: \")\n",
    "input_name = input()\n",
    "print(\"Enter your age: \")\n",
    "input_age = input()\n",
    "\n",
    "print(\"\")\n",
    "print_info(name=f\"{input_name}\", input_age=f\"{input_age}\")"
   ]
  },
  {
   "cell_type": "code",
   "execution_count": 36,
   "metadata": {},
   "outputs": [
    {
     "name": "stdout",
     "output_type": "stream",
     "text": [
      "prime numbers: [1, 2, 3, 5, 7]\n"
     ]
    }
   ],
   "source": [
    "# using the *args and **kwargs to call a function\n",
    "# for example printing all the prime numbers from 1 to 10\n",
    "# generating the prime function\n",
    "\n",
    "def generate_prime_numbers():\n",
    "    prime_numbers = []\n",
    "    for i in range(1, 10):\n",
    "        number = i\n",
    "        primeState = True\n",
    "        for j in range(1, 10):\n",
    "            if j != 1 and j != number: \n",
    "                if number % j == 0:\n",
    "                    primeState = False\n",
    "                    break\n",
    "                else:\n",
    "                    continue\n",
    "            else:\n",
    "                continue\n",
    "        if primeState == True:\n",
    "            prime_numbers.append(number)\n",
    "        \n",
    "                \n",
    "\n",
    "    return prime_numbers\n",
    "\n",
    "prime = generate_prime_numbers()\n",
    "print(f\"prime numbers: {prime}\")\n",
    "\n",
    "def print_prime_numbers(*args):\n",
    "    for prime_numbers in args:\n",
    "\n"
   ]
  },
  {
   "cell_type": "code",
   "execution_count": 43,
   "metadata": {},
   "outputs": [
    {
     "name": "stdout",
     "output_type": "stream",
     "text": [
      "['Fru Mark', 'Carrington', 'Chei', 'Bleck', 'Prosper']\n",
      "['computer science', 'mathematics', 'chemistry']\n",
      "[[20, 20, 20], [20, 20, 20], [20, 20, 20], [20, 20, 20], [20, 20, 20]]\n",
      "['BTECH', 'BTECH', 'BTECH', 'BTECH', 'BTECH']\n",
      "Length of names: 5\n",
      "Name:\n"
     ]
    }
   ],
   "source": [
    "# using *args and **kwargs to call functions\n",
    "def print_numbers(num1, num2, num3):\n",
    "    print(f\"Num 1: {num1}\")\n",
    "    print(f\"Num 2: {num2}\")\n",
    "    print(f\"Num 3: {num3}\")\n",
    "\n",
    "\n",
    "numbers = (1, 2, 3)\n",
    "kw_numbers = {\"num1\": 1, \"num2\": 2, \"num3\": 3}\n",
    "\n",
    "# print_numbers(*numbers) # using *args\n",
    "# print_numbers(**kw_numbers) # using **kwargs\n",
    "\n",
    "# function to work with formal arguments, *args, and **kwargs\n",
    "''' \n",
    "    building a micro databasr for a class of 5 students, for 5 subjects, using the sequence\n",
    "    of fargs, *args, **kwargs\n",
    "'''\n",
    "\n",
    "school = [\n",
    "    {\n",
    "        \"name\": \"Fru Mark\",\n",
    "        \"program\": \"BTECH\",\n",
    "        \"subjects\": [\"computer science\", \"mathematics\", \"chemistry\"],\n",
    "        \"subject_marks\": [20, 20, 20]\n",
    "    }, \n",
    "    {\n",
    "        \"name\": \"Carrington\",\n",
    "        \"program\": \"BTECH\",\n",
    "        \"subjects\": [\"computer science\", \"mathematics\", \"chemistry\"],\n",
    "        \"subject_marks\": [20, 20, 20]\n",
    "    },\n",
    "    {\n",
    "        \"name\": \"Chei\",\n",
    "        \"program\": \"BTECH\",\n",
    "        \"subjects\": [\"computer science\", \"mathematics\", \"chemistry\"],\n",
    "        \"subject_marks\": [20, 20, 20]\n",
    "    }, \n",
    "    {\n",
    "        \"name\": \"Bleck\",\n",
    "        \"program\": \"BTECH\",\n",
    "        \"subjects\": [\"computer science\", \"mathematics\", \"chemistry\"],\n",
    "        \"subject_marks\": [20, 20, 20]\n",
    "    },\n",
    "    {\n",
    "        \"name\": \"Prosper\",\n",
    "        \"program\": \"BTECH\",\n",
    "        \"subjects\": [\"computer science\", \"mathematics\", \"chemistry\"],\n",
    "        \"subject_marks\": [20, 20, 20]\n",
    "    }\n",
    "]\n",
    "\n",
    "student_names = []\n",
    "subjects = [\"computer science\", \"mathematics\", \"chemistry\"]\n",
    "student_marks = []\n",
    "student_programs = []\n",
    "\n",
    "# this function will tak the student names and append to the student_names list, their program, and their marks\n",
    "\n",
    "for i in range(5):\n",
    "    student_programs.append(school[i]['program'])\n",
    "    student_names.append(school[i]['name'])\n",
    "    student_marks.append(school[i]['subject_marks'])\n",
    "\n",
    "\n",
    "print(student_names)\n",
    "print(subjects)\n",
    "print(student_marks)\n",
    "print(student_programs)\n",
    "\n",
    "# testing the DS\n",
    "def print_names(*names):\n",
    "    for name in names:\n",
    "        print(\"Name:\")\n",
    "\n",
    "print(f\"Length of names: {len(student_names)}\")\n",
    "print_names(student_names)\n",
    "\n",
    "\n"
   ]
  },
  {
   "cell_type": "code",
   "execution_count": 2,
   "metadata": {},
   "outputs": [
    {
     "name": "stdout",
     "output_type": "stream",
     "text": [
      "--Return--\n",
      "None\n",
      "> \u001b[1;32mc:\\users\\tosh7\\appdata\\local\\temp\\ipykernel_11684\\3795658817.py\u001b[0m(7)\u001b[0;36m<cell line: 7>\u001b[1;34m()\u001b[0m\n",
      "\n",
      "Enter the value of a and b: \tThe sum of c and a is ca\n"
     ]
    }
   ],
   "source": [
    "# SHORT REVISION\n",
    "\n",
    "# 1. tracking the debugging process with pdb library\n",
    "\n",
    "from pdb import set_trace\n",
    "\n",
    "def addition(a, b):\n",
    "    set_trace()\n",
    "    return a+b \n",
    "\n",
    "print(\"Enter the value of a and b: \", end=\"\\t\")\n",
    "a = input()\n",
    "b = input()\n",
    "\n",
    "sum = addition(a, b)\n",
    "print(f\"The sum of {a} and {b} is {sum}\")\n"
   ]
  }
 ],
 "metadata": {
  "kernelspec": {
   "display_name": "Python 3",
   "language": "python",
   "name": "python3"
  },
  "language_info": {
   "codemirror_mode": {
    "name": "ipython",
    "version": 3
   },
   "file_extension": ".py",
   "mimetype": "text/x-python",
   "name": "python",
   "nbconvert_exporter": "python",
   "pygments_lexer": "ipython3",
   "version": "3.9.12"
  }
 },
 "nbformat": 4,
 "nbformat_minor": 2
}
