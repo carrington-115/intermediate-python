{
 "cells": [
  {
   "cell_type": "code",
   "execution_count": 9,
   "metadata": {},
   "outputs": [
    {
     "name": "stdout",
     "output_type": "stream",
     "text": [
      "hello world\n",
      "hello The length is: 5\n",
      "nice to meet you mark\n"
     ]
    }
   ],
   "source": [
    "print('hello world')\n",
    "greetings = 'hello'\n",
    "print(greetings + ' The length is: '+ str(len(greetings)))\n",
    "name = input()\n",
    "print(f\"nice to meet you {name}\")"
   ]
  },
  {
   "cell_type": "code",
   "execution_count": 10,
   "metadata": {},
   "outputs": [
    {
     "name": "stdout",
     "output_type": "stream",
     "text": [
      "Hello mark; your name is not Fru\n"
     ]
    }
   ],
   "source": [
    "if name == \"fru\":\n",
    "    print(f\"Hello {name}\")\n",
    "else:\n",
    "    print(f\"Hello {name}; your name is not Fru\")"
   ]
  },
  {
   "cell_type": "code",
   "execution_count": 1,
   "metadata": {},
   "outputs": [
    {
     "name": "stdout",
     "output_type": "stream",
     "text": [
      "Enter a number that you want to add: \n",
      "The first number is 4\n",
      "The next number in *numbers 4\n",
      "The next number in *numbers 3\n",
      "The next number in *numbers 2\n",
      "The next number in *numbers 1\n",
      "\n",
      "The result of the addition is 10\n"
     ]
    }
   ],
   "source": [
    "# using *args and **kwargs\n",
    "# *args is used to send a non-keyworded variable list to a function\n",
    "\n",
    "print(\"Enter a number that you want to add: \")\n",
    "number = input()\n",
    "def print_numbers(number, *numbers):\n",
    "    print(f\"The first number is {number}\")\n",
    "    for i in numbers:\n",
    "        print(f\"The next number in *numbers {i}\")\n",
    "\n",
    "print_numbers(number, 4, 3, 2, 1)\n",
    "\n",
    "# another approach to add numbers\n",
    "def addition(number, *numbers):\n",
    "    result = int(number)\n",
    "    for i in numbers:\n",
    "        result += i\n",
    "    print(f\"The result of the addition is {result}\")\n",
    "\n",
    "print(\"\")\n",
    "addition(number, 1, 2, 3)"
   ]
  },
  {
   "cell_type": "code",
   "execution_count": 2,
   "metadata": {},
   "outputs": [
    {
     "name": "stdout",
     "output_type": "stream",
     "text": [
      "name: Mark\n",
      "age: 20\n",
      "program: BTECH\n"
     ]
    }
   ],
   "source": [
    "# using **kwargs\n",
    "\n",
    "def person_data(**kwargs):\n",
    "    for key, value in kwargs.items():\n",
    "        print(f\"{key}: {value}\")\n",
    "\n",
    "person_data(name='Mark', age=20, program='BTECH')\n",
    "\n"
   ]
  },
  {
   "cell_type": "code",
   "execution_count": 9,
   "metadata": {},
   "outputs": [
    {
     "name": "stdout",
     "output_type": "stream",
     "text": [
      "Enter your three favourite western fruits: \n",
      "Your top fruits are, Banana, pear, apple, grape, \n",
      "Enter your name: \n",
      "Enter your age: \n",
      "\n",
      "name: mango\n",
      "input_age: mark\n"
     ]
    }
   ],
   "source": [
    "# practicing *args\n",
    "\n",
    "print(\"Enter your three favourite western fruits: \")\n",
    "fruits = []\n",
    "for i in range(3):\n",
    "    fruit_input = input()\n",
    "    fruits.append(fruit_input)\n",
    "\n",
    "print(\"Your top fruits are, \", end=\"\")\n",
    "def print_fruits(fruit, *fruit_entries):\n",
    "    print(f\"{fruit}, \", end=\"\")\n",
    "    for fruit_type in fruit_entries:\n",
    "        print(f\"{fruit_type}, \", end=\"\")\n",
    "\n",
    "print_fruits(\"Banana\", fruits[0], fruits[1], fruits[2])\n",
    "\n",
    "# practice of **kwargs\n",
    "\n",
    "def print_info(**kwargs):\n",
    "    for key, value in kwargs.items():\n",
    "        print(f\"{key}: {value}\")\n",
    "\n",
    "\n",
    "print(\"\")\n",
    "print(\"Enter your name: \")\n",
    "input_name = input()\n",
    "print(\"Enter your age: \")\n",
    "input_age = input()\n",
    "\n",
    "print(\"\")\n",
    "print_info(name=f\"{input_name}\", input_age=f\"{input_age}\")"
   ]
  },
  {
   "cell_type": "code",
   "execution_count": 36,
   "metadata": {},
   "outputs": [
    {
     "name": "stdout",
     "output_type": "stream",
     "text": [
      "prime numbers: [1, 2, 3, 5, 7]\n"
     ]
    }
   ],
   "source": [
    "# using the *args and **kwargs to call a function\n",
    "# for example printing all the prime numbers from 1 to 10\n",
    "# generating the prime function\n",
    "\n",
    "def generate_prime_numbers():\n",
    "    prime_numbers = []\n",
    "    for i in range(1, 10):\n",
    "        number = i\n",
    "        primeState = True\n",
    "        for j in range(1, 10):\n",
    "            if j != 1 and j != number: \n",
    "                if number % j == 0:\n",
    "                    primeState = False\n",
    "                    break\n",
    "                else:\n",
    "                    continue\n",
    "            else:\n",
    "                continue\n",
    "        if primeState == True:\n",
    "            prime_numbers.append(number)\n",
    "        \n",
    "                \n",
    "\n",
    "    return prime_numbers\n",
    "\n",
    "prime = generate_prime_numbers()\n",
    "print(f\"prime numbers: {prime}\")\n",
    "\n",
    "def print_prime_numbers(*args):\n",
    "    for prime_numbers in args:\n",
    "\n"
   ]
  },
  {
   "cell_type": "code",
   "execution_count": 43,
   "metadata": {},
   "outputs": [
    {
     "name": "stdout",
     "output_type": "stream",
     "text": [
      "['Fru Mark', 'Carrington', 'Chei', 'Bleck', 'Prosper']\n",
      "['computer science', 'mathematics', 'chemistry']\n",
      "[[20, 20, 20], [20, 20, 20], [20, 20, 20], [20, 20, 20], [20, 20, 20]]\n",
      "['BTECH', 'BTECH', 'BTECH', 'BTECH', 'BTECH']\n",
      "Length of names: 5\n",
      "Name:\n"
     ]
    }
   ],
   "source": [
    "# using *args and **kwargs to call functions\n",
    "def print_numbers(num1, num2, num3):\n",
    "    print(f\"Num 1: {num1}\")\n",
    "    print(f\"Num 2: {num2}\")\n",
    "    print(f\"Num 3: {num3}\")\n",
    "\n",
    "\n",
    "numbers = (1, 2, 3)\n",
    "kw_numbers = {\"num1\": 1, \"num2\": 2, \"num3\": 3}\n",
    "\n",
    "# print_numbers(*numbers) # using *args\n",
    "# print_numbers(**kw_numbers) # using **kwargs\n",
    "\n",
    "# function to work with formal arguments, *args, and **kwargs\n",
    "''' \n",
    "    building a micro databasr for a class of 5 students, for 5 subjects, using the sequence\n",
    "    of fargs, *args, **kwargs\n",
    "'''\n",
    "\n",
    "school = [\n",
    "    {\n",
    "        \"name\": \"Fru Mark\",\n",
    "        \"program\": \"BTECH\",\n",
    "        \"subjects\": [\"computer science\", \"mathematics\", \"chemistry\"],\n",
    "        \"subject_marks\": [20, 20, 20]\n",
    "    }, \n",
    "    {\n",
    "        \"name\": \"Carrington\",\n",
    "        \"program\": \"BTECH\",\n",
    "        \"subjects\": [\"computer science\", \"mathematics\", \"chemistry\"],\n",
    "        \"subject_marks\": [20, 20, 20]\n",
    "    },\n",
    "    {\n",
    "        \"name\": \"Chei\",\n",
    "        \"program\": \"BTECH\",\n",
    "        \"subjects\": [\"computer science\", \"mathematics\", \"chemistry\"],\n",
    "        \"subject_marks\": [20, 20, 20]\n",
    "    }, \n",
    "    {\n",
    "        \"name\": \"Bleck\",\n",
    "        \"program\": \"BTECH\",\n",
    "        \"subjects\": [\"computer science\", \"mathematics\", \"chemistry\"],\n",
    "        \"subject_marks\": [20, 20, 20]\n",
    "    },\n",
    "    {\n",
    "        \"name\": \"Prosper\",\n",
    "        \"program\": \"BTECH\",\n",
    "        \"subjects\": [\"computer science\", \"mathematics\", \"chemistry\"],\n",
    "        \"subject_marks\": [20, 20, 20]\n",
    "    }\n",
    "]\n",
    "\n",
    "student_names = []\n",
    "subjects = [\"computer science\", \"mathematics\", \"chemistry\"]\n",
    "student_marks = []\n",
    "student_programs = []\n",
    "\n",
    "# this function will tak the student names and append to the student_names list, their program, and their marks\n",
    "\n",
    "for i in range(5):\n",
    "    student_programs.append(school[i]['program'])\n",
    "    student_names.append(school[i]['name'])\n",
    "    student_marks.append(school[i]['subject_marks'])\n",
    "\n",
    "\n",
    "print(student_names)\n",
    "print(subjects)\n",
    "print(student_marks)\n",
    "print(student_programs)\n",
    "\n",
    "# testing the DS\n",
    "def print_names(*names):\n",
    "    for name in names:\n",
    "        print(\"Name:\")\n",
    "\n",
    "print(f\"Length of names: {len(student_names)}\")\n",
    "print_names(student_names)\n",
    "\n",
    "\n"
   ]
  },
  {
   "cell_type": "code",
   "execution_count": 9,
   "metadata": {},
   "outputs": [
    {
     "name": "stdout",
     "output_type": "stream",
     "text": [
      "Enter the value of a and b: \t\n",
      "The sum of 1 and 2 is 3\n"
     ]
    }
   ],
   "source": [
    "# SHORT REVISION\n",
    "\n",
    "# 1. tracking the debugging process with pdb library\n",
    "\n",
    "from pdb import set_trace\n",
    "\n",
    "def addition(a, b):\n",
    "    return int(a)+int(b) \n",
    "\n",
    "print(\"Enter the value of a and b: \", end=\"\\t\")\n",
    "a = input()\n",
    "b = input()\n",
    "\n",
    "sum_of_numbers = addition(a, b)\n",
    "print(\"\")\n",
    "print(f\"The sum of {a} and {b} is {sum_of_numbers}\")\n"
   ]
  },
  {
   "cell_type": "code",
   "execution_count": 19,
   "metadata": {},
   "outputs": [
    {
     "name": "stdout",
     "output_type": "stream",
     "text": [
      "prime numbers: [1, 2, 3, 5, 7]\n",
      "1\n",
      "2\n",
      "3\n",
      "5\n",
      "7\n",
      "Enter the name of the name of your favourite subject: \t\n",
      "['m', 'a', 't', 'h', 'e', 'm', 'a', 't', 'i', 'c', 's']\n",
      "m\t\ta\t\tt\t\th\t\te\t\tm\t\ta\t\tt\t\ti\t\tc\t\ts\t\t"
     ]
    }
   ],
   "source": [
    "# 2. taking the difference between an iterable, iterator, and iteration\n",
    "\n",
    "# for example let's use the prime number generation code\n",
    "def generate_prime_numbers():\n",
    "    prime_numbers = []\n",
    "    for i in range(1, 10):\n",
    "        number = i\n",
    "        primeState = True\n",
    "        for j in range(1, 10):\n",
    "            if j != 1 and j != number: \n",
    "                if number % j == 0:\n",
    "                    primeState = False\n",
    "                    break\n",
    "                else:\n",
    "                    continue\n",
    "            else:\n",
    "                continue\n",
    "        if primeState == True:\n",
    "            prime_numbers.append(number)\n",
    "        \n",
    "                \n",
    "\n",
    "    return prime_numbers\n",
    "\n",
    "prime = generate_prime_numbers()\n",
    "print(f\"prime numbers: {prime}\")\n",
    "\n",
    "# the prime list is an iterable since we can iterate over it\n",
    "\n",
    "def print_individual(*prime_numbers):\n",
    "    for prime in prime_numbers:\n",
    "        print(f\"{prime}\", end=\"\\n\")\n",
    "\n",
    "print_individual(*prime) # and iterable\n",
    "\n",
    "\n",
    "print(\"Enter the name of the name of your favourite subject: \", end=\"\\t\")\n",
    "subject = input()\n",
    "\n",
    "# the subject variable is a string that means we can iterate over it manually in the program, but automatically,\n",
    "# we can't iterate over it, so we make it an iterator using the iter() and next()\n",
    "\n",
    "subject = list(iter(subject))\n",
    "print(\"\")\n",
    "print(subject, end=\"\\n\")\n",
    "for letter in subject:\n",
    "    print(letter, end=\"\\t\\t\")\n"
   ]
  },
  {
   "cell_type": "code",
   "execution_count": 34,
   "metadata": {},
   "outputs": [
    {
     "name": "stdout",
     "output_type": "stream",
     "text": [
      "[1, 2, 3, 5, 7]\n",
      "[1, 4, 9, 25, 49]\n",
      "[1, 4, 9, 25, 49]\n",
      "Divisible by 2: [4]\n",
      "Total addition: 88\n"
     ]
    }
   ],
   "source": [
    "# 4. revising the map function\n",
    "\n",
    "# for example getting the cube of a number\n",
    "def generate_prime_numbers():\n",
    "    prime = []\n",
    "    for i in range(1, 10):\n",
    "        prime_state = True\n",
    "        for j in range(1, 10):\n",
    "            if j!= 1 and j!=i:\n",
    "                if i % j == 0:\n",
    "                    prime_state = False\n",
    "                    break\n",
    "                else:\n",
    "                    continue\n",
    "            else:\n",
    "                continue\n",
    "        if prime_state == True:\n",
    "            prime.append(i)\n",
    "        else:\n",
    "            continue\n",
    "    return prime\n",
    "\n",
    "prime_numbers = generate_prime_numbers()\n",
    "print(prime_numbers)\n",
    "\n",
    "\n",
    "# we want to find the square of the following numbers\n",
    "\n",
    "# method 1\n",
    "squares = []\n",
    "for number in prime_numbers:\n",
    "    squares.append(number**2)\n",
    "\n",
    "print(squares)\n",
    "\n",
    "# method 2\n",
    "squares_with_map = list(map(lambda x: x**2, prime_numbers))\n",
    "print(squares_with_map)\n",
    "\n",
    "# the filer\n",
    "divisible_by_two = list(filter(lambda x: x%2 == 0, squares))\n",
    "print(f\"Divisible by 2: {divisible_by_two}\")\n",
    "\n",
    "# adding all the numbers with reduce\n",
    "from functools import reduce\n",
    "add = reduce((lambda x, y: x+y), squares)\n",
    "print(f\"Total addition: {add}\")\n",
    "\n",
    "\n",
    "\n"
   ]
  },
  {
   "cell_type": "code",
   "execution_count": 44,
   "metadata": {},
   "outputs": [
    {
     "name": "stdout",
     "output_type": "stream",
     "text": [
      "[1, 1, 2, 3, 4, 5, 6, 7, 8, 9, 8]\n",
      "[1, 1, 8, 8]\n",
      "{8, 1}\n",
      "{'apple', 'orange', 'banana'}\n",
      "{'pineapple', 'blue berries', 'banana', 'papaye', 'apple', 'orange', 'grape'}\n",
      "{'blue berries', 'pineapple', 'papaye', 'grape'}\n",
      "\n",
      "The type of numbers is <class 'list'> and the type of fruits is <class 'set'>\n"
     ]
    }
   ],
   "source": [
    "# The set data structure\n",
    "\n",
    "numbers = [1, 1, 2, 3, 4, 5, 6, 7, 8, 9, 8]\n",
    "\n",
    "# checking for duplicates\n",
    "duplicates = []\n",
    "for value in numbers:\n",
    "    if numbers.count(value) > 1:\n",
    "        duplicates.append(value)\n",
    "\n",
    "print(numbers)\n",
    "print(duplicates)\n",
    "\n",
    "\n",
    "# with set we can do this in a single line\n",
    "duplicates_with_set = set([x for x in numbers if numbers.count(x) > 1])\n",
    "print(duplicates_with_set)\n",
    "\n",
    "fruits = set(['orange', 'apple', 'banana', 'apple'])\n",
    "print(fruits) # set automatically removes the duplicates\n",
    "\n",
    "other_fruits = set(['orange', 'pineapple', 'papaye', 'grape', 'blue berries'])\n",
    "similar_fruits = fruits.intersection(other_fruits)\n",
    "all_fruits = fruits.union(other_fruits)\n",
    "print(all_fruits)\n",
    "\n",
    "differ = all_fruits.difference(fruits)\n",
    "print(differ)\n",
    "\n",
    "num_type = type(numbers)\n",
    "fruits_type = type(fruits)\n",
    "print(\"\")\n",
    "print(f\"The type of numbers is {num_type} and the type of fruits is {fruits_type}\")"
   ]
  },
  {
   "cell_type": "code",
   "execution_count": 51,
   "metadata": {},
   "outputs": [
    {
     "name": "stdout",
     "output_type": "stream",
     "text": [
      "Ok\n",
      "value if user is login @kjdljlj-18950175\n"
     ]
    }
   ],
   "source": [
    "# Using the tenary operators in python\n",
    "val = num_type\n",
    "state = print(\"Ok\") if val else print(\"Not ok\")\n",
    "\n",
    "# another way to do tenary operators\n",
    "\n",
    "login_status = True\n",
    "user = (\"no user\", \"@kjdljlj-18950175\")[login_status]\n",
    "\n",
    "print(\"value if user is login\", user)\n",
    "\n",
    "\n",
    "\n",
    "\n"
   ]
  },
  {
   "cell_type": "code",
   "execution_count": 6,
   "metadata": {},
   "outputs": [
    {
     "name": "stdout",
     "output_type": "stream",
     "text": [
      "Enter the name of the fruit: \tApple type\n",
      "\n",
      "\n",
      "Enter your name: \t\n",
      "Your name is:  mark\n",
      "Your name is:  True\n"
     ]
    }
   ],
   "source": [
    "# revision of the tenary operators\n",
    "\n",
    "print('Enter the name of the fruit: ', end=\"\\t\")\n",
    "fruit = input()\n",
    "print(\"Apple type\" if fruit == 'apple' else \"No apple type\")\n",
    "print(\"\")\n",
    "# print((\"boolean type applied here\", \"boolean check not applied here\")[fruit])  # ---> This method is only applied if the \n",
    "# type is a boolean type\n",
    "\n",
    "\n",
    "# another way for tenary operators is to do quick check with the logical operators like and, or, and not\n",
    "print(\"\")\n",
    "print(\"Enter your name: \", end=\"\\t\")\n",
    "name = input()\n",
    "print(\"\")\n",
    "print(\"Your name is: \", name or False, end=\"\\n\") # print name --> because it's the or\n",
    "print(\"Your name is: \", name and True) # print True --> because it's the and\n",
    "\n",
    "\n"
   ]
  },
  {
   "cell_type": "code",
   "execution_count": 21,
   "metadata": {},
   "outputs": [
    {
     "name": "stdout",
     "output_type": "stream",
     "text": [
      "my name is carrington\n",
      "my name is Mark\n",
      "None\n",
      "\n",
      "Enter the type of fruit you want\t"
     ]
    },
    {
     "name": "stdout",
     "output_type": "stream",
     "text": [
      "\n",
      "These are the world's fruits: \n",
      "[['mango', 'banana', 'pineapple'], ['apple', 'pine', 'grape']]\n",
      "These are the world's fruits: \n",
      "These are african fruits ['mango', 'banana', 'pineapple']\n",
      "<function world_fruits.<locals>.african at 0x0000021E05223310>\n"
     ]
    }
   ],
   "source": [
    "# Decorators\n",
    "\n",
    "# decorators are special functions in python that makes our code shorter and pythonic\n",
    "# revision of function\n",
    "\n",
    "def print_name(name=\"Mark\"):\n",
    "    print(f'my name is {name}')\n",
    "\n",
    "print_name('carrington')\n",
    "greeting = print_name\n",
    "# del greeting  # deletes the function\n",
    "print(greeting())\n",
    "\n",
    "# nested functions defining\n",
    "\n",
    "def world_fruits(fruit = None):\n",
    "    print(\"These are the world's fruits: \", end='\\n')\n",
    "\n",
    "    def african():\n",
    "        return ['mango', 'banana', 'pineapple']\n",
    "\n",
    "    def white():\n",
    "        return ['apple', 'pine', 'grape']\n",
    "\n",
    "\n",
    "    african_fruits = african()\n",
    "    american_fruits = white()\n",
    "    if fruit == 'african':\n",
    "        print(f'These are african fruits {african_fruits}', end='\\n')\n",
    "        return african\n",
    "    elif fruit == 'american':\n",
    "        print(f'These are american fruits {american_fruits}', end='\\n')\n",
    "        return white\n",
    "    else:\n",
    "        return [african_fruits, american_fruits]\n",
    "\n",
    "# fruits = world_fruits()\n",
    "# print(fruits)\n",
    "\n",
    "\n",
    "# print(african())  # --> triggers an error\n",
    "\n",
    "# returning a function from another function\n",
    "\n",
    "\n",
    "print(\"\")\n",
    "print(\"Enter the type of fruit you want\", end='\\t')\n",
    "fruit_type = input()\n",
    "\n",
    "print('')\n",
    "# case 1: nothing\n",
    "fruits = world_fruits()\n",
    "print(fruits, end='\\n')\n",
    "# case 2 with something\n",
    "fruits = world_fruits(fruit_type)\n",
    "print(fruits)\n",
    "\n",
    "\n",
    "\n",
    "\n",
    "\n",
    "\n"
   ]
  },
  {
   "cell_type": "code",
   "execution_count": 51,
   "metadata": {},
   "outputs": [
    {
     "name": "stdout",
     "output_type": "stream",
     "text": [
      "Enter your sign of computation: \t\n",
      "Enter the numbers for computation: \t\n",
      "\n",
      "The result is:  0.6666666666666666\n",
      "\n"
     ]
    },
    {
     "ename": "AttributeError",
     "evalue": "'NoneType' object has no attribute '__name__'",
     "output_type": "error",
     "traceback": [
      "\u001b[1;31m---------------------------------------------------------------------------\u001b[0m",
      "\u001b[1;31mAttributeError\u001b[0m                            Traceback (most recent call last)",
      "Input \u001b[1;32mIn [51]\u001b[0m, in \u001b[0;36m<cell line: 55>\u001b[1;34m()\u001b[0m\n\u001b[0;32m     51\u001b[0m \u001b[38;5;66;03m# calculator(start_calculator)\u001b[39;00m\n\u001b[0;32m     52\u001b[0m \n\u001b[0;32m     53\u001b[0m \u001b[38;5;66;03m# checking errors with the generator function\u001b[39;00m\n\u001b[0;32m     54\u001b[0m \u001b[38;5;28mprint\u001b[39m(\u001b[38;5;124m\"\u001b[39m\u001b[38;5;124m\"\u001b[39m)\n\u001b[1;32m---> 55\u001b[0m \u001b[38;5;28mprint\u001b[39m(\u001b[43mstart_calculator\u001b[49m\u001b[38;5;241;43m.\u001b[39;49m\u001b[38;5;18;43m__name__\u001b[39;49m)\n",
      "\u001b[1;31mAttributeError\u001b[0m: 'NoneType' object has no attribute '__name__'"
     ]
    }
   ],
   "source": [
    "# Decorators\n",
    "\n",
    "# for example a calculator with decoration\n",
    "\n",
    "\n",
    "@calculator # ---> The minor initialization of the generator\n",
    "\n",
    "def start_calculator():\n",
    "    print(\"Enter your sign of computation: \", end='\\t')\n",
    "    sign = input()\n",
    "    print(\"\", end=\"\\n\")\n",
    "    print(\"Enter the numbers for computation: \", end='\\t')\n",
    "    num1 = int(input())\n",
    "    num2 = int(input())\n",
    "\n",
    "    return [sign, num1, num2]\n",
    "\n",
    "\n",
    "import pdb\n",
    "\n",
    "def calculator(operation_obj):\n",
    "    operations = operation_obj()\n",
    "    get_sign = operations[0]\n",
    "    num1 = operations[1]\n",
    "    num2 = operations[2]\n",
    "    \n",
    "    print(end=\"\\n\")\n",
    "    def make_operation(sign=get_sign, a=num1, b=num2):\n",
    "        if sign == '+':\n",
    "            return a + b\n",
    "        elif sign == '-':\n",
    "            return a - b\n",
    "        elif sign == '/':\n",
    "            if b != 0:\n",
    "                return a/b\n",
    "            else:\n",
    "                return 'division by zero not possible'\n",
    "        elif sign == '**':\n",
    "            return a**b\n",
    "        elif sign == '*':\n",
    "            return a*b\n",
    "        elif sign == '%':\n",
    "            return a % b \n",
    "        else:\n",
    "            'enter the sign of the operation'\n",
    "\n",
    "    result = make_operation()\n",
    "    print(\"\", end=\"\\n\")\n",
    "    print(\"The result is: \", result)\n",
    "\n",
    "# calculator(start_calculator)\n",
    "\n",
    "# checking errors with the generator function\n",
    "print(\"\")\n",
    "# print(start_calculator.__name__)\n",
    "\n",
    "# \"\"\"\n",
    "#     Since we added @calculator at the top, we don't need\n",
    "#     calculator(start_calculator)\n",
    "#     @calculator is the short form of saying that\n",
    "# \"\"\"\n",
    "\n",
    "# print(\"The result of the computation is: \", end=\"\\t\")\n",
    "# print(result)"
   ]
  },
  {
   "cell_type": "code",
   "execution_count": 50,
   "metadata": {},
   "outputs": [
    {
     "name": "stdout",
     "output_type": "stream",
     "text": [
      "Map: [2, 4, 6, 8, 10]\n",
      "Filter example: [0, 2, 10]\n",
      "Reduce example: 0.0010416666666666667\n"
     ]
    },
    {
     "ename": "AttributeError",
     "evalue": "'NoneType' object has no attribute '__name__'",
     "output_type": "error",
     "traceback": [
      "\u001b[1;31m---------------------------------------------------------------------------\u001b[0m",
      "\u001b[1;31mAttributeError\u001b[0m                            Traceback (most recent call last)",
      "Input \u001b[1;32mIn [50]\u001b[0m, in \u001b[0;36m<cell line: 21>\u001b[1;34m()\u001b[0m\n\u001b[0;32m     16\u001b[0m \u001b[38;5;28mprint\u001b[39m(\u001b[38;5;124mf\u001b[39m\u001b[38;5;124m\"\u001b[39m\u001b[38;5;124mReduce example: \u001b[39m\u001b[38;5;132;01m{\u001b[39;00mtotal_division\u001b[38;5;132;01m}\u001b[39;00m\u001b[38;5;124m\"\u001b[39m, end\u001b[38;5;241m=\u001b[39m\u001b[38;5;124m\"\u001b[39m\u001b[38;5;130;01m\\n\u001b[39;00m\u001b[38;5;124m\"\u001b[39m)\n\u001b[0;32m     20\u001b[0m \u001b[38;5;66;03m# continuation with generators\u001b[39;00m\n\u001b[1;32m---> 21\u001b[0m \u001b[38;5;28mprint\u001b[39m(\u001b[43mstart_calculator\u001b[49m\u001b[38;5;241;43m.\u001b[39;49m\u001b[38;5;18;43m__name__\u001b[39;49m)\n",
      "\u001b[1;31mAttributeError\u001b[0m: 'NoneType' object has no attribute '__name__'"
     ]
    }
   ],
   "source": [
    "# revise map, filter, and reduce\n",
    "\n",
    "numbers = [1, 2, 3, 4, 5]\n",
    "mul_by_two = list(map(lambda x: x*2, numbers))\n",
    "print(f\"Map: {mul_by_two}\", end=\"\\n\")\n",
    "\n",
    "# filter\n",
    "numbers = [-1, 0, 2, -11, 10]\n",
    "filter_example = list(filter(lambda x: x >= 0, numbers))\n",
    "print(f\"Filter example: {filter_example}\", end=\"\\n\")\n",
    "\n",
    "#reduce\n",
    "from functools import reduce\n",
    "numbers = [2, 4, 6, 8, 10]\n",
    "total_division = reduce(lambda x, y: x/y, numbers)\n",
    "print(f\"Reduce example: {total_division}\", end=\"\\n\")\n",
    "\n",
    "\n",
    "\n",
    "# continuation with generators\n",
    "print(start_calculator.__name__)\n",
    "\n",
    "\n"
   ]
  }
 ],
 "metadata": {
  "kernelspec": {
   "display_name": "Python 3",
   "language": "python",
   "name": "python3"
  },
  "language_info": {
   "codemirror_mode": {
    "name": "ipython",
    "version": 3
   },
   "file_extension": ".py",
   "mimetype": "text/x-python",
   "name": "python",
   "nbconvert_exporter": "python",
   "pygments_lexer": "ipython3",
   "version": "3.9.12"
  }
 },
 "nbformat": 4,
 "nbformat_minor": 2
}
