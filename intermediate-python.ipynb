{
 "cells": [
  {
   "cell_type": "code",
   "execution_count": 9,
   "metadata": {},
   "outputs": [
    {
     "name": "stdout",
     "output_type": "stream",
     "text": [
      "hello world\n",
      "hello The length is: 5\n",
      "nice to meet you mark\n"
     ]
    }
   ],
   "source": [
    "print('hello world')\n",
    "greetings = 'hello'\n",
    "print(greetings + ' The length is: '+ str(len(greetings)))\n",
    "name = input()\n",
    "print(f\"nice to meet you {name}\")"
   ]
  },
  {
   "cell_type": "code",
   "execution_count": 10,
   "metadata": {},
   "outputs": [
    {
     "name": "stdout",
     "output_type": "stream",
     "text": [
      "Hello mark; your name is not Fru\n"
     ]
    }
   ],
   "source": [
    "if name == \"fru\":\n",
    "    print(f\"Hello {name}\")\n",
    "else:\n",
    "    print(f\"Hello {name}; your name is not Fru\")"
   ]
  },
  {
   "cell_type": "code",
   "execution_count": 1,
   "metadata": {},
   "outputs": [
    {
     "name": "stdout",
     "output_type": "stream",
     "text": [
      "Enter a number that you want to add: \n",
      "The first number is 4\n",
      "The next number in *numbers 4\n",
      "The next number in *numbers 3\n",
      "The next number in *numbers 2\n",
      "The next number in *numbers 1\n",
      "\n",
      "The result of the addition is 10\n"
     ]
    }
   ],
   "source": [
    "# using *args and **kwargs\n",
    "# *args is used to send a non-keyworded variable list to a function\n",
    "\n",
    "print(\"Enter a number that you want to add: \")\n",
    "number = input()\n",
    "def print_numbers(number, *numbers):\n",
    "    print(f\"The first number is {number}\")\n",
    "    for i in numbers:\n",
    "        print(f\"The next number in *numbers {i}\")\n",
    "\n",
    "print_numbers(number, 4, 3, 2, 1)\n",
    "\n",
    "# another approach to add numbers\n",
    "def addition(number, *numbers):\n",
    "    result = int(number)\n",
    "    for i in numbers:\n",
    "        result += i\n",
    "    print(f\"The result of the addition is {result}\")\n",
    "\n",
    "print(\"\")\n",
    "addition(number, 1, 2, 3)"
   ]
  },
  {
   "cell_type": "code",
   "execution_count": 2,
   "metadata": {},
   "outputs": [
    {
     "name": "stdout",
     "output_type": "stream",
     "text": [
      "name: Mark\n",
      "age: 20\n",
      "program: BTECH\n"
     ]
    }
   ],
   "source": [
    "# using **kwargs\n",
    "\n",
    "def person_data(**kwargs):\n",
    "    for key, value in kwargs.items():\n",
    "        print(f\"{key}: {value}\")\n",
    "\n",
    "person_data(name='Mark', age=20, program='BTECH')\n",
    "\n"
   ]
  },
  {
   "cell_type": "code",
   "execution_count": 9,
   "metadata": {},
   "outputs": [
    {
     "name": "stdout",
     "output_type": "stream",
     "text": [
      "Enter your three favourite western fruits: \n",
      "Your top fruits are, Banana, pear, apple, grape, \n",
      "Enter your name: \n",
      "Enter your age: \n",
      "\n",
      "name: mango\n",
      "input_age: mark\n"
     ]
    }
   ],
   "source": [
    "# practicing *args\n",
    "\n",
    "print(\"Enter your three favourite western fruits: \")\n",
    "fruits = []\n",
    "for i in range(3):\n",
    "    fruit_input = input()\n",
    "    fruits.append(fruit_input)\n",
    "\n",
    "print(\"Your top fruits are, \", end=\"\")\n",
    "def print_fruits(fruit, *fruit_entries):\n",
    "    print(f\"{fruit}, \", end=\"\")\n",
    "    for fruit_type in fruit_entries:\n",
    "        print(f\"{fruit_type}, \", end=\"\")\n",
    "\n",
    "print_fruits(\"Banana\", fruits[0], fruits[1], fruits[2])\n",
    "\n",
    "# practice of **kwargs\n",
    "\n",
    "def print_info(**kwargs):\n",
    "    for key, value in kwargs.items():\n",
    "        print(f\"{key}: {value}\")\n",
    "\n",
    "\n",
    "print(\"\")\n",
    "print(\"Enter your name: \")\n",
    "input_name = input()\n",
    "print(\"Enter your age: \")\n",
    "input_age = input()\n",
    "\n",
    "print(\"\")\n",
    "print_info(name=f\"{input_name}\", input_age=f\"{input_age}\")"
   ]
  },
  {
   "cell_type": "code",
   "execution_count": 36,
   "metadata": {},
   "outputs": [
    {
     "name": "stdout",
     "output_type": "stream",
     "text": [
      "prime numbers: [1, 2, 3, 5, 7]\n"
     ]
    }
   ],
   "source": [
    "# using the *args and **kwargs to call a function\n",
    "# for example printing all the prime numbers from 1 to 10\n",
    "# generating the prime function\n",
    "\n",
    "def generate_prime_numbers():\n",
    "    prime_numbers = []\n",
    "    for i in range(1, 10):\n",
    "        number = i\n",
    "        primeState = True\n",
    "        for j in range(1, 10):\n",
    "            if j != 1 and j != number: \n",
    "                if number % j == 0:\n",
    "                    primeState = False\n",
    "                    break\n",
    "                else:\n",
    "                    continue\n",
    "            else:\n",
    "                continue\n",
    "        if primeState == True:\n",
    "            prime_numbers.append(number)\n",
    "        \n",
    "                \n",
    "\n",
    "    return prime_numbers\n",
    "\n",
    "prime = generate_prime_numbers()\n",
    "print(f\"prime numbers: {prime}\")\n",
    "\n",
    "def print_prime_numbers(*args):\n",
    "    for prime_numbers in args:\n",
    "\n"
   ]
  },
  {
   "cell_type": "code",
   "execution_count": 43,
   "metadata": {},
   "outputs": [
    {
     "name": "stdout",
     "output_type": "stream",
     "text": [
      "['Fru Mark', 'Carrington', 'Chei', 'Bleck', 'Prosper']\n",
      "['computer science', 'mathematics', 'chemistry']\n",
      "[[20, 20, 20], [20, 20, 20], [20, 20, 20], [20, 20, 20], [20, 20, 20]]\n",
      "['BTECH', 'BTECH', 'BTECH', 'BTECH', 'BTECH']\n",
      "Length of names: 5\n",
      "Name:\n"
     ]
    }
   ],
   "source": [
    "# using *args and **kwargs to call functions\n",
    "def print_numbers(num1, num2, num3):\n",
    "    print(f\"Num 1: {num1}\")\n",
    "    print(f\"Num 2: {num2}\")\n",
    "    print(f\"Num 3: {num3}\")\n",
    "\n",
    "\n",
    "numbers = (1, 2, 3)\n",
    "kw_numbers = {\"num1\": 1, \"num2\": 2, \"num3\": 3}\n",
    "\n",
    "# print_numbers(*numbers) # using *args\n",
    "# print_numbers(**kw_numbers) # using **kwargs\n",
    "\n",
    "# function to work with formal arguments, *args, and **kwargs\n",
    "''' \n",
    "    building a micro databasr for a class of 5 students, for 5 subjects, using the sequence\n",
    "    of fargs, *args, **kwargs\n",
    "'''\n",
    "\n",
    "school = [\n",
    "    {\n",
    "        \"name\": \"Fru Mark\",\n",
    "        \"program\": \"BTECH\",\n",
    "        \"subjects\": [\"computer science\", \"mathematics\", \"chemistry\"],\n",
    "        \"subject_marks\": [20, 20, 20]\n",
    "    }, \n",
    "    {\n",
    "        \"name\": \"Carrington\",\n",
    "        \"program\": \"BTECH\",\n",
    "        \"subjects\": [\"computer science\", \"mathematics\", \"chemistry\"],\n",
    "        \"subject_marks\": [20, 20, 20]\n",
    "    },\n",
    "    {\n",
    "        \"name\": \"Chei\",\n",
    "        \"program\": \"BTECH\",\n",
    "        \"subjects\": [\"computer science\", \"mathematics\", \"chemistry\"],\n",
    "        \"subject_marks\": [20, 20, 20]\n",
    "    }, \n",
    "    {\n",
    "        \"name\": \"Bleck\",\n",
    "        \"program\": \"BTECH\",\n",
    "        \"subjects\": [\"computer science\", \"mathematics\", \"chemistry\"],\n",
    "        \"subject_marks\": [20, 20, 20]\n",
    "    },\n",
    "    {\n",
    "        \"name\": \"Prosper\",\n",
    "        \"program\": \"BTECH\",\n",
    "        \"subjects\": [\"computer science\", \"mathematics\", \"chemistry\"],\n",
    "        \"subject_marks\": [20, 20, 20]\n",
    "    }\n",
    "]\n",
    "\n",
    "student_names = []\n",
    "subjects = [\"computer science\", \"mathematics\", \"chemistry\"]\n",
    "student_marks = []\n",
    "student_programs = []\n",
    "\n",
    "# this function will tak the student names and append to the student_names list, their program, and their marks\n",
    "\n",
    "for i in range(5):\n",
    "    student_programs.append(school[i]['program'])\n",
    "    student_names.append(school[i]['name'])\n",
    "    student_marks.append(school[i]['subject_marks'])\n",
    "\n",
    "\n",
    "print(student_names)\n",
    "print(subjects)\n",
    "print(student_marks)\n",
    "print(student_programs)\n",
    "\n",
    "# testing the DS\n",
    "def print_names(*names):\n",
    "    for name in names:\n",
    "        print(\"Name:\")\n",
    "\n",
    "print(f\"Length of names: {len(student_names)}\")\n",
    "print_names(student_names)\n",
    "\n",
    "\n"
   ]
  },
  {
   "cell_type": "code",
   "execution_count": 9,
   "metadata": {},
   "outputs": [
    {
     "name": "stdout",
     "output_type": "stream",
     "text": [
      "Enter the value of a and b: \t\n",
      "The sum of 1 and 2 is 3\n"
     ]
    }
   ],
   "source": [
    "# SHORT REVISION\n",
    "\n",
    "# 1. tracking the debugging process with pdb library\n",
    "\n",
    "from pdb import set_trace\n",
    "\n",
    "def addition(a, b):\n",
    "    return int(a)+int(b) \n",
    "\n",
    "print(\"Enter the value of a and b: \", end=\"\\t\")\n",
    "a = input()\n",
    "b = input()\n",
    "\n",
    "sum_of_numbers = addition(a, b)\n",
    "print(\"\")\n",
    "print(f\"The sum of {a} and {b} is {sum_of_numbers}\")\n"
   ]
  },
  {
   "cell_type": "code",
   "execution_count": 19,
   "metadata": {},
   "outputs": [
    {
     "name": "stdout",
     "output_type": "stream",
     "text": [
      "prime numbers: [1, 2, 3, 5, 7]\n",
      "1\n",
      "2\n",
      "3\n",
      "5\n",
      "7\n",
      "Enter the name of the name of your favourite subject: \t\n",
      "['m', 'a', 't', 'h', 'e', 'm', 'a', 't', 'i', 'c', 's']\n",
      "m\t\ta\t\tt\t\th\t\te\t\tm\t\ta\t\tt\t\ti\t\tc\t\ts\t\t"
     ]
    }
   ],
   "source": [
    "# 2. taking the difference between an iterable, iterator, and iteration\n",
    "\n",
    "# for example let's use the prime number generation code\n",
    "def generate_prime_numbers():\n",
    "    prime_numbers = []\n",
    "    for i in range(1, 10):\n",
    "        number = i\n",
    "        primeState = True\n",
    "        for j in range(1, 10):\n",
    "            if j != 1 and j != number: \n",
    "                if number % j == 0:\n",
    "                    primeState = False\n",
    "                    break\n",
    "                else:\n",
    "                    continue\n",
    "            else:\n",
    "                continue\n",
    "        if primeState == True:\n",
    "            prime_numbers.append(number)\n",
    "        \n",
    "                \n",
    "\n",
    "    return prime_numbers\n",
    "\n",
    "prime = generate_prime_numbers()\n",
    "print(f\"prime numbers: {prime}\")\n",
    "\n",
    "# the prime list is an iterable since we can iterate over it\n",
    "\n",
    "def print_individual(*prime_numbers):\n",
    "    for prime in prime_numbers:\n",
    "        print(f\"{prime}\", end=\"\\n\")\n",
    "\n",
    "print_individual(*prime) # and iterable\n",
    "\n",
    "\n",
    "print(\"Enter the name of the name of your favourite subject: \", end=\"\\t\")\n",
    "subject = input()\n",
    "\n",
    "# the subject variable is a string that means we can iterate over it manually in the program, but automatically,\n",
    "# we can't iterate over it, so we make it an iterator using the iter() and next()\n",
    "\n",
    "subject = list(iter(subject))\n",
    "print(\"\")\n",
    "print(subject, end=\"\\n\")\n",
    "for letter in subject:\n",
    "    print(letter, end=\"\\t\\t\")\n"
   ]
  },
  {
   "cell_type": "code",
   "execution_count": 34,
   "metadata": {},
   "outputs": [
    {
     "name": "stdout",
     "output_type": "stream",
     "text": [
      "[1, 2, 3, 5, 7]\n",
      "[1, 4, 9, 25, 49]\n",
      "[1, 4, 9, 25, 49]\n",
      "Divisible by 2: [4]\n",
      "Total addition: 88\n"
     ]
    }
   ],
   "source": [
    "# 4. revising the map function\n",
    "\n",
    "# for example getting the cube of a number\n",
    "def generate_prime_numbers():\n",
    "    prime = []\n",
    "    for i in range(1, 10):\n",
    "        prime_state = True\n",
    "        for j in range(1, 10):\n",
    "            if j!= 1 and j!=i:\n",
    "                if i % j == 0:\n",
    "                    prime_state = False\n",
    "                    break\n",
    "                else:\n",
    "                    continue\n",
    "            else:\n",
    "                continue\n",
    "        if prime_state == True:\n",
    "            prime.append(i)\n",
    "        else:\n",
    "            continue\n",
    "    return prime\n",
    "\n",
    "prime_numbers = generate_prime_numbers()\n",
    "print(prime_numbers)\n",
    "\n",
    "\n",
    "# we want to find the square of the following numbers\n",
    "\n",
    "# method 1\n",
    "squares = []\n",
    "for number in prime_numbers:\n",
    "    squares.append(number**2)\n",
    "\n",
    "print(squares)\n",
    "\n",
    "# method 2\n",
    "squares_with_map = list(map(lambda x: x**2, prime_numbers))\n",
    "print(squares_with_map)\n",
    "\n",
    "# the filer\n",
    "divisible_by_two = list(filter(lambda x: x%2 == 0, squares))\n",
    "print(f\"Divisible by 2: {divisible_by_two}\")\n",
    "\n",
    "# adding all the numbers with reduce\n",
    "from functools import reduce\n",
    "add = reduce((lambda x, y: x+y), squares)\n",
    "print(f\"Total addition: {add}\")\n",
    "\n",
    "\n",
    "\n"
   ]
  },
  {
   "cell_type": "code",
   "execution_count": 37,
   "metadata": {},
   "outputs": [
    {
     "name": "stdout",
     "output_type": "stream",
     "text": [
      "[1, 1, 2, 3, 4, 5, 6, 7, 8, 9, 8]\n",
      "[1, 1, 8, 8]\n",
      "{8, 1}\n",
      "{'apple', 'orange', 'banana'}\n"
     ]
    }
   ],
   "source": [
    "# The set data structure\n",
    "\n",
    "numbers = [1, 1, 2, 3, 4, 5, 6, 7, 8, 9, 8]\n",
    "\n",
    "# checking for duplicates\n",
    "duplicates = []\n",
    "for value in numbers:\n",
    "    if numbers.count(value) > 1:\n",
    "        duplicates.append(value)\n",
    "\n",
    "print(numbers)\n",
    "print(duplicates)\n",
    "\n",
    "\n",
    "# with set we can do this in a single line\n",
    "duplicates_with_set = set([x for x in numbers if numbers.count(x) > 1])\n",
    "print(duplicates_with_set)\n",
    "\n",
    "fruits = set(['orange', 'apple', 'banana', 'apple'])\n",
    "print(fruits) # set automatically removes the duplicates\n",
    "\n",
    "\n",
    "\n",
    "\n"
   ]
  }
 ],
 "metadata": {
  "kernelspec": {
   "display_name": "Python 3",
   "language": "python",
   "name": "python3"
  },
  "language_info": {
   "codemirror_mode": {
    "name": "ipython",
    "version": 3
   },
   "file_extension": ".py",
   "mimetype": "text/x-python",
   "name": "python",
   "nbconvert_exporter": "python",
   "pygments_lexer": "ipython3",
   "version": "3.9.12"
  }
 },
 "nbformat": 4,
 "nbformat_minor": 2
}
