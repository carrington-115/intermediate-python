{
 "cells": [
  {
   "cell_type": "code",
   "execution_count": 9,
   "metadata": {},
   "outputs": [
    {
     "name": "stdout",
     "output_type": "stream",
     "text": [
      "hello world\n",
      "hello The length is: 5\n",
      "nice to meet you mark\n"
     ]
    }
   ],
   "source": [
    "print('hello world')\n",
    "greetings = 'hello'\n",
    "print(greetings + ' The length is: '+ str(len(greetings)))\n",
    "name = input()\n",
    "print(f\"nice to meet you {name}\")"
   ]
  },
  {
   "cell_type": "code",
   "execution_count": 10,
   "metadata": {},
   "outputs": [
    {
     "name": "stdout",
     "output_type": "stream",
     "text": [
      "Hello mark; your name is not Fru\n"
     ]
    }
   ],
   "source": [
    "if name == \"fru\":\n",
    "    print(f\"Hello {name}\")\n",
    "else:\n",
    "    print(f\"Hello {name}; your name is not Fru\")"
   ]
  },
  {
   "cell_type": "code",
   "execution_count": 1,
   "metadata": {},
   "outputs": [
    {
     "name": "stdout",
     "output_type": "stream",
     "text": [
      "Enter a number that you want to add: \n",
      "The first number is 4\n",
      "The next number in *numbers 4\n",
      "The next number in *numbers 3\n",
      "The next number in *numbers 2\n",
      "The next number in *numbers 1\n",
      "\n",
      "The result of the addition is 10\n"
     ]
    }
   ],
   "source": [
    "# using *args and **kwargs\n",
    "# *args is used to send a non-keyworded variable list to a function\n",
    "\n",
    "print(\"Enter a number that you want to add: \")\n",
    "number = input()\n",
    "def print_numbers(number, *numbers):\n",
    "    print(f\"The first number is {number}\")\n",
    "    for i in numbers:\n",
    "        print(f\"The next number in *numbers {i}\")\n",
    "\n",
    "print_numbers(number, 4, 3, 2, 1)\n",
    "\n",
    "# another approach to add numbers\n",
    "def addition(number, *numbers):\n",
    "    result = int(number)\n",
    "    for i in numbers:\n",
    "        result += i\n",
    "    print(f\"The result of the addition is {result}\")\n",
    "\n",
    "print(\"\")\n",
    "addition(number, 1, 2, 3)"
   ]
  },
  {
   "cell_type": "code",
   "execution_count": 2,
   "metadata": {},
   "outputs": [
    {
     "name": "stdout",
     "output_type": "stream",
     "text": [
      "name: Mark\n",
      "age: 20\n",
      "program: BTECH\n"
     ]
    }
   ],
   "source": [
    "# using **kwargs\n",
    "\n",
    "def person_data(**kwargs):\n",
    "    for key, value in kwargs.items():\n",
    "        print(f\"{key}: {value}\")\n",
    "\n",
    "person_data(name='Mark', age=20, program='BTECH')\n",
    "\n"
   ]
  },
  {
   "cell_type": "code",
   "execution_count": 9,
   "metadata": {},
   "outputs": [
    {
     "name": "stdout",
     "output_type": "stream",
     "text": [
      "Enter your three favourite western fruits: \n",
      "Your top fruits are, Banana, pear, apple, grape, \n",
      "Enter your name: \n",
      "Enter your age: \n",
      "\n",
      "name: mango\n",
      "input_age: mark\n"
     ]
    }
   ],
   "source": [
    "# practicing *args\n",
    "\n",
    "print(\"Enter your three favourite western fruits: \")\n",
    "fruits = []\n",
    "for i in range(3):\n",
    "    fruit_input = input()\n",
    "    fruits.append(fruit_input)\n",
    "\n",
    "print(\"Your top fruits are, \", end=\"\")\n",
    "def print_fruits(fruit, *fruit_entries):\n",
    "    print(f\"{fruit}, \", end=\"\")\n",
    "    for fruit_type in fruit_entries:\n",
    "        print(f\"{fruit_type}, \", end=\"\")\n",
    "\n",
    "print_fruits(\"Banana\", fruits[0], fruits[1], fruits[2])\n",
    "\n",
    "# practice of **kwargs\n",
    "\n",
    "def print_info(**kwargs):\n",
    "    for key, value in kwargs.items():\n",
    "        print(f\"{key}: {value}\")\n",
    "\n",
    "\n",
    "print(\"\")\n",
    "print(\"Enter your name: \")\n",
    "input_name = input()\n",
    "print(\"Enter your age: \")\n",
    "input_age = input()\n",
    "\n",
    "print(\"\")\n",
    "print_info(name=f\"{input_name}\", input_age=f\"{input_age}\")"
   ]
  },
  {
   "cell_type": "code",
   "execution_count": 31,
   "metadata": {},
   "outputs": [
    {
     "name": "stdout",
     "output_type": "stream",
     "text": [
      "prime numbers: [1, 2, 3, 4, 5, 6, 7, 8, 9]\n"
     ]
    }
   ],
   "source": [
    "# using the *args and **kwargs to call a function\n",
    "# for example printing all the prime numbers from 1 to 10\n",
    "# generating the prime function\n",
    "\n",
    "def generate_prime_numbers():\n",
    "    prime_numbers = []\n",
    "    for i in range(1, 10):\n",
    "        number = i\n",
    "        for j in range(1, 10):\n",
    "            if (j != 1 and j != number) and number % j == 0:\n",
    "                break\n",
    "            elif j == 1 or j == number and number % j == 0:\n",
    "                prime_numbers.append(number)\n",
    "                break\n",
    "\n",
    "    return prime_numbers\n",
    "\n",
    "prime = generate_prime_numbers()\n",
    "print(f\"prime numbers: {prime}\")\n",
    "\n"
   ]
  },
  {
   "cell_type": "code",
   "execution_count": null,
   "metadata": {},
   "outputs": [],
   "source": []
  }
 ],
 "metadata": {
  "kernelspec": {
   "display_name": "Python 3",
   "language": "python",
   "name": "python3"
  },
  "language_info": {
   "codemirror_mode": {
    "name": "ipython",
    "version": 3
   },
   "file_extension": ".py",
   "mimetype": "text/x-python",
   "name": "python",
   "nbconvert_exporter": "python",
   "pygments_lexer": "ipython3",
   "version": "3.9.12"
  }
 },
 "nbformat": 4,
 "nbformat_minor": 2
}
