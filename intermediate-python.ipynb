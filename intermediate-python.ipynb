{
 "cells": [
  {
   "cell_type": "code",
   "execution_count": 9,
   "metadata": {},
   "outputs": [
    {
     "name": "stdout",
     "output_type": "stream",
     "text": [
      "hello world\n",
      "hello The length is: 5\n",
      "nice to meet you mark\n"
     ]
    }
   ],
   "source": [
    "print('hello world')\n",
    "greetings = 'hello'\n",
    "print(greetings + ' The length is: '+ str(len(greetings)))\n",
    "name = input()\n",
    "print(f\"nice to meet you {name}\")"
   ]
  },
  {
   "cell_type": "code",
   "execution_count": 10,
   "metadata": {},
   "outputs": [
    {
     "name": "stdout",
     "output_type": "stream",
     "text": [
      "Hello mark; your name is not Fru\n"
     ]
    }
   ],
   "source": [
    "if name == \"fru\":\n",
    "    print(f\"Hello {name}\")\n",
    "else:\n",
    "    print(f\"Hello {name}; your name is not Fru\")"
   ]
  },
  {
   "cell_type": "code",
   "execution_count": 1,
   "metadata": {},
   "outputs": [
    {
     "name": "stdout",
     "output_type": "stream",
     "text": [
      "Enter a number that you want to add: \n",
      "The first number is 4\n",
      "The next number in *numbers 4\n",
      "The next number in *numbers 3\n",
      "The next number in *numbers 2\n",
      "The next number in *numbers 1\n",
      "\n",
      "The result of the addition is 10\n"
     ]
    }
   ],
   "source": [
    "# using *args and **kwargs\n",
    "# *args is used to send a non-keyworded variable list to a function\n",
    "\n",
    "print(\"Enter a number that you want to add: \")\n",
    "number = input()\n",
    "def print_numbers(number, *numbers):\n",
    "    print(f\"The first number is {number}\")\n",
    "    for i in numbers:\n",
    "        print(f\"The next number in *numbers {i}\")\n",
    "\n",
    "print_numbers(number, 4, 3, 2, 1)\n",
    "\n",
    "# another approach to add numbers\n",
    "def addition(number, *numbers):\n",
    "    result = int(number)\n",
    "    for i in numbers:\n",
    "        result += i\n",
    "    print(f\"The result of the addition is {result}\")\n",
    "\n",
    "print(\"\")\n",
    "addition(number, 1, 2, 3)"
   ]
  },
  {
   "cell_type": "code",
   "execution_count": 2,
   "metadata": {},
   "outputs": [
    {
     "name": "stdout",
     "output_type": "stream",
     "text": [
      "name: Mark\n",
      "age: 20\n",
      "program: BTECH\n"
     ]
    }
   ],
   "source": [
    "# using **kwargs\n",
    "\n",
    "def person_data(**kwargs):\n",
    "    for key, value in kwargs.items():\n",
    "        print(f\"{key}: {value}\")\n",
    "\n",
    "person_data(name='Mark', age=20, program='BTECH')\n",
    "\n"
   ]
  }
 ],
 "metadata": {
  "kernelspec": {
   "display_name": "Python 3",
   "language": "python",
   "name": "python3"
  },
  "language_info": {
   "codemirror_mode": {
    "name": "ipython",
    "version": 3
   },
   "file_extension": ".py",
   "mimetype": "text/x-python",
   "name": "python",
   "nbconvert_exporter": "python",
   "pygments_lexer": "ipython3",
   "version": "3.9.12"
  }
 },
 "nbformat": 4,
 "nbformat_minor": 2
}
