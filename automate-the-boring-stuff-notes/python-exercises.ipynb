{
 "cells": [
  {
   "cell_type": "code",
   "execution_count": 1,
   "metadata": {},
   "outputs": [
    {
     "name": "stdout",
     "output_type": "stream",
     "text": [
      "hello world, these are python lab exercises\n"
     ]
    }
   ],
   "source": [
    "print('hello world, these are python lab exercises')"
   ]
  },
  {
   "cell_type": "code",
   "execution_count": 7,
   "metadata": {},
   "outputs": [
    {
     "name": "stdout",
     "output_type": "stream",
     "text": [
      "1 <class 'int'>\n",
      "1 <class 'str'>\n",
      "mark <class 'str'>\n",
      "3.55 <class 'float'>\n",
      "True <class 'bool'> <class 'str'>\n"
     ]
    }
   ],
   "source": [
    "\"\"\"\n",
    "# python introduction\n",
    "- data types\n",
    "- variables and constants\n",
    "\"\"\"\n",
    "\n",
    "# int and str\n",
    "number = 1\n",
    "print(number, type(number))\n",
    "print(str(number), type(str(number)))\n",
    "\n",
    "# str\n",
    "name = 'mark'\n",
    "print(name, type(name))\n",
    "\n",
    "# float\n",
    "volume = 3.55\n",
    "print(volume, type(volume))\n",
    "\n",
    "# boolean and str\n",
    "is_student = True\n",
    "print(is_student, type(is_student), type(str(is_student)))"
   ]
  },
  {
   "cell_type": "code",
   "execution_count": 32,
   "metadata": {},
   "outputs": [
    {
     "name": "stdout",
     "output_type": "stream",
     "text": [
      "\n",
      "2 \n",
      "3 5 \n",
      "7 11 13 "
     ]
    }
   ],
   "source": [
    "\"\"\"\n",
    "python basics\n",
    "- loops: for, while\n",
    "- function\n",
    "- conditionals: if-else, match-case\n",
    "- input and output\n",
    "\n",
    "\"\"\"\n",
    "\n",
    "def is_prime(n):\n",
    "    prime = True\n",
    "    if n == 1:\n",
    "        prime = False\n",
    "    else:\n",
    "        for i in range(1, n+1):\n",
    "            if (i != 1 and i != n) and (n % i == 0):\n",
    "                prime = False\n",
    "                break\n",
    "    return prime\n",
    "\n",
    "\n",
    "def pattern(line_number):\n",
    "    n = 1\n",
    "    for i in range(1, line_number+1):\n",
    "        counter = 0\n",
    "        print(end=\"\\n\")\n",
    "        while True:\n",
    "            if counter == i:\n",
    "                break\n",
    "            else:\n",
    "                if is_prime(n) == True:\n",
    "                    counter+=1\n",
    "                    print(f'{n} ', end='')\n",
    "            n+=1\n",
    "\n",
    "def main():\n",
    "    lines = int(input(\"Enter the number of lines: \"))\n",
    "    pattern(lines)\n",
    "\n",
    "main()\n",
    "\n"
   ]
  },
  {
   "cell_type": "code",
   "execution_count": 36,
   "metadata": {},
   "outputs": [
    {
     "name": "stdout",
     "output_type": "stream",
     "text": [
      "prime numbers: [2, 3, 5, 7, 11, 13, 17, 19]\n",
      "prime numbers: [3, 7, 11, 13, 17, 19]\n"
     ]
    }
   ],
   "source": [
    "# list program: create, append, remove\n",
    "\n",
    "# this is the algorithm for prime numbers\n",
    "\n",
    "def is_prime(n):\n",
    "    prime = True\n",
    "    if n == 1: prime = False\n",
    "    else:\n",
    "        for i in range(1, n+1):\n",
    "            if (i != 1 and i != n) and (n % i == 0):\n",
    "                prime = False\n",
    "                break\n",
    "    return prime\n",
    "\n",
    "# use list to store prime numbers between 1 and 20 then programmatically remove 2 and 5\n",
    "prime_numbers = [] # or list([])\n",
    "for i in range(1, 21):\n",
    "    if is_prime(i) == True: prime_numbers.append(i)\n",
    "\n",
    "print(f'prime numbers: {prime_numbers}')\n",
    "prime_numbers.remove(2)\n",
    "prime_numbers.remove(5)\n",
    "print(f'prime numbers: {prime_numbers}')\n",
    "\n"
   ]
  },
  {
   "cell_type": "code",
   "execution_count": 68,
   "metadata": {},
   "outputs": [
    {
     "name": "stdout",
     "output_type": "stream",
     "text": [
      "{'name': 'Mark', 'number': 2, 'university': 'Integral University'}\n",
      "['name', 'number', 'university'] ['Mark', 2, 'Integral University']\n",
      "name: Mark\n",
      "number: 2\n",
      "university: Integral University\n",
      "{'name': 'Mark Carrington', 'number': 2, 'university': 'Integral University', 'age': 5}\n",
      "0\n",
      "<class 'str'>\n",
      "E l o n   M u s k \n",
      "u: 6\n",
      "['E', 'l', 'o', 'n', ' ', 'M', 'u', 's', 'k'] ['Elon', 'Musk']\n",
      "ELON MUSK elon musk Elon musk\n",
      "\n",
      "name: Mark\n",
      "age: 14\n",
      "country: India\n",
      "\n",
      "['Mark', 14, 'India']\n",
      "{'pickles', 'apple', 'banana', 'pineapple'}\n",
      "{'pineapple', 'apple', 'pickles', 'pear'}\n"
     ]
    }
   ],
   "source": [
    "# dictionaries, strings, tuple, set\n",
    "\n",
    "# 1. dictionarie\n",
    "student = {'name': 'Mark', 'number': 2, 'university': 'Integral University'} # or dict({})\n",
    "print(student)\n",
    "print(list(student.keys()), list(student.values()))\n",
    "for i, j in student.items():\n",
    "    print(f\"{i}: {j}\")\n",
    "\n",
    "student.setdefault('age', 5)\n",
    "student['name'] = 'Mark Carrington'\n",
    "print(student)\n",
    "print(student.get('course', 0))\n",
    "\n",
    "# 2. strings\n",
    "name = 'Elon Musk'\n",
    "print(type(name)) # type\n",
    "for char in name:\n",
    "    print(char, end=' ')\n",
    "print(f'\\nu: {name.index('u')}')\n",
    "print(list(name), name.split())\n",
    "print(name.upper(), name.lower(), name.capitalize())\n",
    "\n",
    "# 3. tuple\n",
    "person = ('Mark', 14, 'India')\n",
    "print(f\"\"\"\n",
    "name: {person[0]}\n",
    "age: {person[1]}\n",
    "country: {person[2]}\n",
    "\"\"\")\n",
    "print(list(person))\n",
    "\n",
    "\n",
    "# 4. sets\n",
    "fruits = set(['apple', 'banana', 'pineapple', 'pickles', 'banana'])\n",
    "print(fruits)\n",
    "fruits.add('pear')\n",
    "fruits.remove('banana')\n",
    "print(fruits)\n"
   ]
  },
  {
   "cell_type": "code",
   "execution_count": 73,
   "metadata": {},
   "outputs": [
    {
     "name": "stdout",
     "output_type": "stream",
     "text": [
      "The factorial of 4 is 24\n"
     ]
    }
   ],
   "source": [
    "# the factorial function\n",
    "def factorial_n(n):\n",
    "    if n == 0: return 1\n",
    "    else:\n",
    "        return n * factorial_n(n-1)\n",
    "    \n",
    "def main():\n",
    "    n = int(input(\"Number: \"))\n",
    "    print(f\"The factorial of {n} is {factorial_n(n)}\")\n",
    "\n",
    "main()"
   ]
  },
  {
   "cell_type": "code",
   "execution_count": 82,
   "metadata": {},
   "outputs": [
    {
     "name": "stdout",
     "output_type": "stream",
     "text": [
      "{'name': 'Mark', 'age': 15, 'enrollment_id': '555353', 'course': 'Electrical engineering'}\n",
      "I am Mark from Electrical engineering, with id: 555353\n"
     ]
    }
   ],
   "source": [
    "# OOP in python\n",
    "class Person:\n",
    "    def __init__(self, name, age, address):\n",
    "        self.name = name\n",
    "        self.age = age\n",
    "        self.address = address\n",
    "    def __str__(self):\n",
    "        return str({\n",
    "            'name': self.name,\n",
    "            'age': self.age,\n",
    "            'address': self.address\n",
    "        })\n",
    "\n",
    "class Student(Person):\n",
    "    def __init__(self, name, age, address, enrollment_id, course):\n",
    "        super().__init__(name, age, address)\n",
    "        self.enrollment_id = enrollment_id\n",
    "        self.course = course\n",
    "\n",
    "    def presentation(self):\n",
    "        print(f\"I am {self.name} from {self.course}, with id: {self.enrollment_id}\")\n",
    "\n",
    "    def __str__(self):\n",
    "        return str({\n",
    "            'name': self.name,\n",
    "            'age': self.age,\n",
    "            'enrollment_id': self.enrollment_id,\n",
    "            'course': self.course\n",
    "        })\n",
    "\n",
    "\n",
    "sample_student = Student('Mark', 15, 'Lucknow India', '555353', 'Electrical engineering')\n",
    "print(sample_student)\n",
    "sample_student.presentation()\n",
    "\n",
    "    "
   ]
  },
  {
   "cell_type": "code",
   "execution_count": 1,
   "metadata": {},
   "outputs": [
    {
     "name": "stdout",
     "output_type": "stream",
     "text": [
      "Note: you may need to restart the kernel to use updated packages.\n"
     ]
    },
    {
     "name": "stderr",
     "output_type": "stream",
     "text": [
      "ERROR: Could not find a version that satisfies the requirement csv (from versions: none)\n",
      "ERROR: No matching distribution found for csv\n"
     ]
    }
   ],
   "source": [
    "pip install csv"
   ]
  },
  {
   "cell_type": "code",
   "execution_count": 9,
   "metadata": {},
   "outputs": [
    {
     "name": "stdout",
     "output_type": "stream",
     "text": [
      "['Name', 'Age', 'City', 'Email']\n",
      "['Alice Johnson', '30', 'New York', 'alice.johnson@example.com']\n",
      "['Bob Smith', '25', 'Los Angeles', 'bob.smith@example.com']\n",
      "['Charlie Brown', '35', 'Chicago', 'charlie.brown@example.com']\n",
      "['Daisy Miller', '28', 'Houston', 'daisy.miller@example.com']\n",
      "['Evan Davis', '40', 'San Francisco', 'evan.davis@example.com']\n",
      "['Fiona Clark', '22', 'Seattle', 'fiona.clark@example.com']\n",
      "['George Lee', '29', 'Miami', 'george.lee@example.com']\n",
      "['Hannah White', '33', 'Boston', 'hannah.white@example.com']\n",
      "['Ian Green', '27', 'Dallas', 'ian.green@example.com']\n",
      "['Jane Wilson', '31', 'Denver', 'jane.wilson@example.com']\n"
     ]
    }
   ],
   "source": [
    "# working with csv, xml, and json files\n",
    "import csv\n",
    "\n",
    "# 1. csv files\n",
    "with open('datapoint/sample_data.csv', mode=\"r\") as file:\n",
    "    csv_data = csv.reader(file)\n",
    "    for row in csv_data:\n",
    "        print(row)\n",
    "\n",
    "\n",
    "with open('datapoint/output.csv', mode='w', newline='') as file:\n",
    "    csv_file = csv.writer(file)\n",
    "    csv_file.writerow(['Mark', '15', 'mark@example.com'])\n",
    "\n"
   ]
  },
  {
   "cell_type": "code",
   "execution_count": null,
   "metadata": {},
   "outputs": [],
   "source": []
  }
 ],
 "metadata": {
  "kernelspec": {
   "display_name": "Python 3",
   "language": "python",
   "name": "python3"
  },
  "language_info": {
   "codemirror_mode": {
    "name": "ipython",
    "version": 3
   },
   "file_extension": ".py",
   "mimetype": "text/x-python",
   "name": "python",
   "nbconvert_exporter": "python",
   "pygments_lexer": "ipython3",
   "version": "3.12.6"
  }
 },
 "nbformat": 4,
 "nbformat_minor": 2
}
