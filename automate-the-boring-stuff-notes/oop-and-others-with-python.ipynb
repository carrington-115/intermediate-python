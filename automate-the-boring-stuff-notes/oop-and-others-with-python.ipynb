{
 "cells": [
  {
   "cell_type": "code",
   "execution_count": 2,
   "metadata": {},
   "outputs": [
    {
     "name": "stdout",
     "output_type": "stream",
     "text": [
      "hello world: introduction to OOP\n"
     ]
    }
   ],
   "source": [
    "print('hello world: introduction to OOP')"
   ]
  },
  {
   "cell_type": "code",
   "execution_count": 3,
   "metadata": {},
   "outputs": [
    {
     "name": "stdout",
     "output_type": "stream",
     "text": [
      "mark from home\n"
     ]
    }
   ],
   "source": [
    "# course from CS50\n",
    "\n",
    "name = input(\"Name: \")\n",
    "house = input(\"House: \")\n",
    "print(f\"{name} from {house}\")"
   ]
  },
  {
   "cell_type": "code",
   "execution_count": 1,
   "metadata": {},
   "outputs": [
    {
     "name": "stdout",
     "output_type": "stream",
     "text": [
      "hello men\n"
     ]
    }
   ],
   "source": [
    "# raising an error \n",
    "\n",
    "names = ['Fru', 'Mark', 'Carrington']\n",
    "name = input(\"Name: \")\n",
    "\n",
    "match name:\n",
    "    case 'Fru':\n",
    "        print('hello men')\n",
    "    case 'Mark':\n",
    "        print('how are you?')\n",
    "    case 'Carrington':\n",
    "        print('Howdy?')\n",
    "    case _:\n",
    "        print(\"This is the default case\")\n"
   ]
  },
  {
   "cell_type": "code",
   "execution_count": 6,
   "metadata": {},
   "outputs": [
    {
     "name": "stdout",
     "output_type": "stream",
     "text": [
      "mark Cameroon\n"
     ]
    }
   ],
   "source": [
    "class Student:\n",
    "    def __init__(self, name, house):\n",
    "        self.name = name\n",
    "        self.house = house\n",
    "\n",
    "    @property\n",
    "    def house(self):\n",
    "        return self._house\n",
    "    \n",
    "    @house.setter\n",
    "    def house(self, house):\n",
    "        if house not in ['Cameroon', 'Yaounde', 'India']:\n",
    "            raise ValueError('House is not in list')\n",
    "        self._house = house\n",
    "\n",
    "    def __str__(self):\n",
    "        print(f\"This is {self.name} from {self.house}\")\n",
    "\n",
    "\n",
    "def new_student():\n",
    "    name = input(\"Name: \")\n",
    "    house = input(\"House: \")\n",
    "    return Student(name, house)\n",
    "\n",
    "def main():\n",
    "    student = new_student()\n",
    "    print(student.name, student.house)\n",
    "    \n",
    "\n",
    "main()"
   ]
  },
  {
   "cell_type": "code",
   "execution_count": 11,
   "metadata": {},
   "outputs": [
    {
     "name": "stdout",
     "output_type": "stream",
     "text": [
      "7 7\n"
     ]
    }
   ],
   "source": [
    "number = input(\"Number: \")\n",
    "print(int(number), int(number))"
   ]
  },
  {
   "cell_type": "code",
   "execution_count": 19,
   "metadata": {},
   "outputs": [
    {
     "name": "stdout",
     "output_type": "stream",
     "text": [
      "<class '__main__.Coordinate'>\n",
      "3, 4\n"
     ]
    }
   ],
   "source": [
    "# creating coordinate for the cartesian x-y plane using OOP\n",
    "\n",
    "class Coordinate:\n",
    "    def __init__(self,x, y):\n",
    "        assert type(x) == int and type(x) == int\n",
    "        self.x = x\n",
    "        self.y = y\n",
    "\n",
    "    def __str__(self):\n",
    "        return f\"{self.x}, {self.y}\"\n",
    "    \n",
    "    @property\n",
    "    def x(self):\n",
    "        return self._x\n",
    "    \n",
    "    @x.setter\n",
    "    def x(self, x):\n",
    "        self._x = x\n",
    "\n",
    "    @property\n",
    "    def y(self):\n",
    "        return self._y\n",
    "    \n",
    "    @y.setter\n",
    "    def y(self, y):\n",
    "        self._y = y\n",
    "\n",
    "new_coords = Coordinate(3,4)\n",
    "print(Coordinate)\n",
    "print(new_coords)"
   ]
  },
  {
   "cell_type": "code",
   "execution_count": 27,
   "metadata": {},
   "outputs": [
    {
     "name": "stdout",
     "output_type": "stream",
     "text": [
      "2 / 3\n",
      "1 / 5\n",
      "13 / 15\n"
     ]
    }
   ],
   "source": [
    "# simulation of a fraction in python with OOP\n",
    "\n",
    "class Fraction:\n",
    "    def __init__(self, num, denum):\n",
    "        self.num = num\n",
    "        self.denum = denum\n",
    "\n",
    "    def __str__(self):\n",
    "        return f\"{self.num} / {self.denum}\"\n",
    "    \n",
    "    def __add__(self, other):\n",
    "        return Fraction((self.num*other.denum + other.num*self.denum), self.denum*other.denum)\n",
    "    def __subtr__(self, other):\n",
    "        return Fraction((self.num*other.denum - other.num*self.denum), self.denum*other.denum)\n",
    "    def inverse(self):\n",
    "        return Fraction(self.denum, self.num)\n",
    "    def __float__(self):\n",
    "        return self.num/self.denum\n",
    "    \n",
    "a = Fraction(2, 3)\n",
    "b = Fraction(1, 5)\n",
    "print(a, b, sep='\\n')\n",
    "print(a+b)"
   ]
  },
  {
   "cell_type": "code",
   "execution_count": 34,
   "metadata": {},
   "outputs": [
    {
     "name": "stdout",
     "output_type": "stream",
     "text": [
      "Samsung G20 Samsung red {'RAM': '8 GB', 'memory': '64 GB'} {'period': '6 months', 'deadline': '6 monthgs'} 02/05/22 china\n"
     ]
    }
   ],
   "source": [
    "class Phone:\n",
    "    def __init__(self, name, model, color, device_specs, warranty, date_of_production, country_of_production):\n",
    "        self.name = name\n",
    "        self.model = model\n",
    "        self.color = color\n",
    "        self.device_specs = device_specs\n",
    "        self.warranty = warranty\n",
    "        self.date_of_production = date_of_production\n",
    "        self.country_of_production = country_of_production\n",
    "\n",
    "    @classmethod\n",
    "    def new_phone(cls):\n",
    "        name = input('Name: ')\n",
    "        model = input('Model: ')\n",
    "        color = input('Color: ')\n",
    "        device_RAM = input('RAM: ')\n",
    "        device_memory = input('Memory: ')\n",
    "        # include RAM, device_memory\n",
    "        device_specs = {'RAM': device_RAM, 'memory': device_memory}\n",
    "        warranty_period = input('Warranty period: ')\n",
    "        warranty_deadline = input('Warranty: ')\n",
    "        warranty = {'period': warranty_period, 'deadline': warranty_deadline}\n",
    "        date_of_production = input('dd/mm/yy: ')\n",
    "        country = input('Country: ')\n",
    "        return cls(name, model, color, device_specs, warranty, date_of_production, country)\n",
    "    \n",
    "\n",
    "def main():\n",
    "    new_phone = Phone.new_phone()\n",
    "    print(new_phone.name, new_phone.model, new_phone.color, new_phone.device_specs, new_phone.warranty, new_phone.date_of_production, new_phone.country_of_production)\n",
    "\n",
    "main()\n",
    "\n",
    "\n"
   ]
  },
  {
   "cell_type": "code",
   "execution_count": 38,
   "metadata": {},
   "outputs": [
    {
     "name": "stdout",
     "output_type": "stream",
     "text": [
      "(1, 2, 3)\n",
      "(1, 2)\n"
     ]
    }
   ],
   "source": [
    "class Coordinate_xy:\n",
    "    def __init__(self, x, y):\n",
    "        self.x = x\n",
    "        self.y = y\n",
    "\n",
    "    def midpoint(self, other):\n",
    "        x = (self.x + other.x)/2\n",
    "        y = (self.y + other.y)/2\n",
    "        return Coordinate_xy(x, y)\n",
    "    \n",
    "    def __str__(self):\n",
    "        return f\"({self.x}, {self.y})\"\n",
    "\n",
    "class Coordinate_xyz(Coordinate_xy):\n",
    "    def __init__(self, x, y, z):\n",
    "        super().__init__(x, y)\n",
    "        self.z = z\n",
    "\n",
    "    def __str__(self):\n",
    "        return f\"({self.x}, {self.y}, {self.z})\"\n",
    "\n",
    "\n",
    "print(Coordinate_xyz(1, 2, 3))\n",
    "print(Coordinate_xy(1, 2))\n"
   ]
  },
  {
   "cell_type": "code",
   "execution_count": 1,
   "metadata": {},
   "outputs": [
    {
     "name": "stdout",
     "output_type": "stream",
     "text": [
      "medium\n"
     ]
    }
   ],
   "source": [
    "class Device:\n",
    "    def printSize(self):\n",
    "        print('medium')\n",
    "        \n",
    "class Tablet(Device):\n",
    "    pass\n",
    "\n",
    "new_tablet = Tablet()\n",
    "new_tablet.printSize()"
   ]
  },
  {
   "cell_type": "code",
   "execution_count": null,
   "metadata": {},
   "outputs": [],
   "source": []
  }
 ],
 "metadata": {
  "kernelspec": {
   "display_name": "Python 3",
   "language": "python",
   "name": "python3"
  },
  "language_info": {
   "codemirror_mode": {
    "name": "ipython",
    "version": 3
   },
   "file_extension": ".py",
   "mimetype": "text/x-python",
   "name": "python",
   "nbconvert_exporter": "python",
   "pygments_lexer": "ipython3",
   "version": "3.12.6"
  }
 },
 "nbformat": 4,
 "nbformat_minor": 2
}
