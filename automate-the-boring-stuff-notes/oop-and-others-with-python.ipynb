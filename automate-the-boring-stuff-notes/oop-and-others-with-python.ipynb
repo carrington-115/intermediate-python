{
 "cells": [
  {
   "cell_type": "code",
   "execution_count": 2,
   "metadata": {},
   "outputs": [
    {
     "name": "stdout",
     "output_type": "stream",
     "text": [
      "hello world: introduction to OOP\n"
     ]
    }
   ],
   "source": [
    "print('hello world: introduction to OOP')"
   ]
  },
  {
   "cell_type": "code",
   "execution_count": 3,
   "metadata": {},
   "outputs": [
    {
     "name": "stdout",
     "output_type": "stream",
     "text": [
      "mark from home\n"
     ]
    }
   ],
   "source": [
    "# course from CS50\n",
    "\n",
    "name = input(\"Name: \")\n",
    "house = input(\"House: \")\n",
    "print(f\"{name} from {house}\")"
   ]
  },
  {
   "cell_type": "code",
   "execution_count": 1,
   "metadata": {},
   "outputs": [
    {
     "name": "stdout",
     "output_type": "stream",
     "text": [
      "hello men\n"
     ]
    }
   ],
   "source": [
    "# raising an error \n",
    "\n",
    "names = ['Fru', 'Mark', 'Carrington']\n",
    "name = input(\"Name: \")\n",
    "\n",
    "match name:\n",
    "    case 'Fru':\n",
    "        print('hello men')\n",
    "    case 'Mark':\n",
    "        print('how are you?')\n",
    "    case 'Carrington':\n",
    "        print('Howdy?')\n",
    "    case _:\n",
    "        print(\"This is the default case\")\n"
   ]
  },
  {
   "cell_type": "code",
   "execution_count": null,
   "metadata": {},
   "outputs": [],
   "source": [
    "class Student:\n",
    "    def __init__(self, name, house):\n",
    "        self.name = name\n",
    "        self.house = house\n",
    "\n",
    "    @property\n",
    "    def house(self):\n",
    "        return self.house\n",
    "    \n",
    "    @house.setter\n",
    "    def house(self):\n",
    "        if self.house not in ['Cameroon', 'Yaounde', 'India']:\n",
    "            raise ValueError('House is not in list')\n",
    "        return self.house"
   ]
  }
 ],
 "metadata": {
  "kernelspec": {
   "display_name": "Python 3",
   "language": "python",
   "name": "python3"
  },
  "language_info": {
   "codemirror_mode": {
    "name": "ipython",
    "version": 3
   },
   "file_extension": ".py",
   "mimetype": "text/x-python",
   "name": "python",
   "nbconvert_exporter": "python",
   "pygments_lexer": "ipython3",
   "version": "3.12.6"
  }
 },
 "nbformat": 4,
 "nbformat_minor": 2
}
