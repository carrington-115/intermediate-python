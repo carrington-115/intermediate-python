{
 "cells": [
  {
   "cell_type": "code",
   "execution_count": 2,
   "metadata": {},
   "outputs": [
    {
     "name": "stdout",
     "output_type": "stream",
     "text": [
      "hello world: introduction to OOP\n"
     ]
    }
   ],
   "source": [
    "print('hello world: introduction to OOP')"
   ]
  },
  {
   "cell_type": "code",
   "execution_count": 3,
   "metadata": {},
   "outputs": [
    {
     "name": "stdout",
     "output_type": "stream",
     "text": [
      "mark from home\n"
     ]
    }
   ],
   "source": [
    "# course from CS50\n",
    "\n",
    "name = input(\"Name: \")\n",
    "house = input(\"House: \")\n",
    "print(f\"{name} from {house}\")"
   ]
  },
  {
   "cell_type": "code",
   "execution_count": 1,
   "metadata": {},
   "outputs": [
    {
     "name": "stdout",
     "output_type": "stream",
     "text": [
      "hello men\n"
     ]
    }
   ],
   "source": [
    "# raising an error \n",
    "\n",
    "names = ['Fru', 'Mark', 'Carrington']\n",
    "name = input(\"Name: \")\n",
    "\n",
    "match name:\n",
    "    case 'Fru':\n",
    "        print('hello men')\n",
    "    case 'Mark':\n",
    "        print('how are you?')\n",
    "    case 'Carrington':\n",
    "        print('Howdy?')\n",
    "    case _:\n",
    "        print(\"This is the default case\")\n"
   ]
  },
  {
   "cell_type": "code",
   "execution_count": 6,
   "metadata": {},
   "outputs": [
    {
     "name": "stdout",
     "output_type": "stream",
     "text": [
      "mark Cameroon\n"
     ]
    }
   ],
   "source": [
    "class Student:\n",
    "    def __init__(self, name, house):\n",
    "        self.name = name\n",
    "        self.house = house\n",
    "\n",
    "    @property\n",
    "    def house(self):\n",
    "        return self._house\n",
    "    \n",
    "    @house.setter\n",
    "    def house(self, house):\n",
    "        if house not in ['Cameroon', 'Yaounde', 'India']:\n",
    "            raise ValueError('House is not in list')\n",
    "        self._house = house\n",
    "\n",
    "    def __str__(self):\n",
    "        print(f\"This is {self.name} from {self.house}\")\n",
    "\n",
    "\n",
    "def new_student():\n",
    "    name = input(\"Name: \")\n",
    "    house = input(\"House: \")\n",
    "    return Student(name, house)\n",
    "\n",
    "def main():\n",
    "    student = new_student()\n",
    "    print(student.name, student.house)\n",
    "    \n",
    "\n",
    "main()"
   ]
  },
  {
   "cell_type": "code",
   "execution_count": 11,
   "metadata": {},
   "outputs": [
    {
     "name": "stdout",
     "output_type": "stream",
     "text": [
      "7 7\n"
     ]
    }
   ],
   "source": [
    "number = input(\"Number: \")\n",
    "print(int(number), int(number))"
   ]
  },
  {
   "cell_type": "code",
   "execution_count": null,
   "metadata": {},
   "outputs": [],
   "source": [
    "# creating coordinate for the cartesian x-y plane using OOP\n",
    "\n",
    "class Coordinate:\n",
    "    def __init__(self,x, y):\n",
    "        self.x = x\n",
    "        self.y = y\n",
    "    \n",
    "    @property\n",
    "    def x(self):\n",
    "        return self.x\n",
    "    \n",
    "    @x.setter\n",
    "    def x(self, x):\n",
    "        self.x = x\n",
    "\n",
    "    @property\n",
    "    def y(self):\n",
    "        return self.y\n",
    "    \n",
    "    @y.setter\n",
    "    def y(self, y):\n",
    "        self.y = y\n",
    "\n"
   ]
  }
 ],
 "metadata": {
  "kernelspec": {
   "display_name": "Python 3",
   "language": "python",
   "name": "python3"
  },
  "language_info": {
   "codemirror_mode": {
    "name": "ipython",
    "version": 3
   },
   "file_extension": ".py",
   "mimetype": "text/x-python",
   "name": "python",
   "nbconvert_exporter": "python",
   "pygments_lexer": "ipython3",
   "version": "3.12.6"
  }
 },
 "nbformat": 4,
 "nbformat_minor": 2
}
