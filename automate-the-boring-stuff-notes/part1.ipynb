{
 "cells": [
  {
   "cell_type": "code",
   "execution_count": 1,
   "id": "initial_id",
   "metadata": {
    "ExecuteTime": {
     "end_time": "2024-09-21T05:57:55.714152Z",
     "start_time": "2024-09-21T05:57:55.706043Z"
    },
    "collapsed": true
   },
   "outputs": [
    {
     "name": "stdout",
     "output_type": "stream",
     "text": [
      "hello world\n"
     ]
    }
   ],
   "source": [
    "print(\"hello world\")"
   ]
  },
  {
   "cell_type": "code",
   "execution_count": 4,
   "id": "d5ad3db926117c7f",
   "metadata": {
    "ExecuteTime": {
     "end_time": "2024-09-21T06:24:08.730774Z",
     "start_time": "2024-09-21T06:24:05.285143Z"
    }
   },
   "outputs": [
    {
     "name": "stdout",
     "output_type": "stream",
     "text": [
      "Enter your name\n",
      "Hello Carrington, and the length of your name is: 10\n"
     ]
    }
   ],
   "source": [
    "## program to test name input\n",
    "print(\"Enter your name\")\n",
    "name = input(\"Enter your name\")\n",
    "print(f\"Hello {name}, and the length of your name is: {len(name)}\")"
   ]
  },
  {
   "cell_type": "code",
   "execution_count": 3,
   "id": "c833b44384ec9140",
   "metadata": {},
   "outputs": [
    {
     "name": "stdout",
     "output_type": "stream",
     "text": [
      "Enter two numbers to find their sum\n",
      "The sum of 2 and 3 is 5\n"
     ]
    }
   ],
   "source": [
    "# addition test program\n",
    "print(\"Enter two numbers to find their sum\")\n",
    "num_1 = input(\"Enter the first number\")\n",
    "num_2 = input(\"Enter the second number\")\n",
    "sum = int(num_1) + int(num_2)\n",
    "print(f\"The sum of {num_1} and {num_2} is {sum}\")"
   ]
  },
  {
   "cell_type": "code",
   "execution_count": 11,
   "id": "aadc9353",
   "metadata": {},
   "outputs": [
    {
     "name": "stdout",
     "output_type": "stream",
     "text": [
      "Is it raining?\n",
      "The value of of rain is 1\n",
      "Do you have an umbrella?\n",
      "Do you have an umbrella?\n",
      "Do you have an umbrella?\n",
      "Then you need to get an umbrella\n"
     ]
    }
   ],
   "source": [
    "# Umbrella code fromm \"\"automate the boring stuff with python book\"\" - that is by using flow control\n",
    "\n",
    "import random\n",
    "print(\"Is it raining?\")\n",
    "rain = random.randrange(0, 2)\n",
    "print(f\"The value of of rain is {rain}\")\n",
    "while rain == 1:\n",
    "    print(\"Do you have an umbrella?\")\n",
    "    umbrella = input(\"Enter yes or no\")\n",
    "    if umbrella != 'yes' and umbrella != \"no\":\n",
    "        continue\n",
    "    else:\n",
    "        if umbrella == 'yes':\n",
    "            print(\"Then you're cautious about the weather\")\n",
    "        else:\n",
    "            print(\"Then you need to get an umbrella\")\n",
    "        break\n",
    "\n",
    "if rain == 0:\n",
    "    print(\"Then you're prepared\")"
   ]
  },
  {
   "cell_type": "code",
   "execution_count": 17,
   "id": "7556bb72",
   "metadata": {},
   "outputs": [
    {
     "name": "stdout",
     "output_type": "stream",
     "text": [
      "Do you have a watch\n",
      "You can't check the time.\n",
      "Completed\n"
     ]
    }
   ],
   "source": [
    "# testing the sys.exit() function\n",
    "\n",
    "import sys\n",
    "\n",
    "print(\"Do you have a watch\")\n",
    "answer = int(input(\"Enter 1 or 2\")) # 1 - True; 2 - False\n",
    "if answer == 1:\n",
    "    print(\"Check the time\")\n",
    "    sys.exit()\n",
    "elif answer == 2:\n",
    "    print(\"You can't check the time.\")\n",
    "\n",
    "print(\"Completed\")"
   ]
  },
  {
   "cell_type": "code",
   "execution_count": 21,
   "id": "948b8256",
   "metadata": {},
   "outputs": [
    {
     "name": "stdout",
     "output_type": "stream",
     "text": [
      "This the list revision\n",
      "['Mark', 'Carrington', 'Fru', 'Chei']\n",
      "Mark Carrington Fru Chei \n",
      "Mark Carrington Fru Chei \n",
      "My name is Carrington\n",
      "['Mark', 'Carrington', 'Fru', 'Chei']\n",
      "['Fru', 'Chei'] ['Mark', 'Carrington']\n",
      "not hello world\n",
      "['Mark', 'Carrington', 'Chei']\n"
     ]
    }
   ],
   "source": [
    "# revision or lists\n",
    "print(\"This the list revision\")\n",
    "names = ['Mark', 'Carrington', 'Fru', 'Chei']\n",
    "print(names)\n",
    "for i in range(len(names)):\n",
    "    print(names[i], end=' ')\n",
    "print()\n",
    "for name in names:\n",
    "    print(f\"{name} \", end=\"\")\n",
    "\n",
    "print()\n",
    "# indexing with negative indexes\n",
    "print(f\"My name is {names[-3]}\")\n",
    "\n",
    "# slices\n",
    "print(names[0:4])\n",
    "print(names[2:], names[:2])\n",
    "\n",
    "# deletion operation\n",
    "del names[2]\n",
    "\n",
    "# finding a list element\n",
    "numbers = [1, 2, 3, 4, 5, 6]\n",
    "if 1 in numbers: print(\"hello world\")\n",
    "else: print(\"not hello world\")\n",
    "\n",
    "# Final print\n",
    "print(names)"
   ]
  },
  {
   "cell_type": "code",
   "execution_count": 55,
   "id": "c7d5e970",
   "metadata": {},
   "outputs": [
    {
     "name": "stdout",
     "output_type": "stream",
     "text": [
      "['red', 'green', 'blue', 'yellow', 'indigo', 'brown', 'violet']\n",
      "0\n",
      "['red', 'green', 'blue', 'yellow', 'brown', 'violet']\n",
      "[1, 284, 3, 200, 5, 2, 53, 1]\n",
      "[1, 1, 2, 3, 5, 53, 200, 284]\n",
      "[284, 200, 53, 5, 3, 2, 1, 1]\n",
      "Carrington\n",
      "['C', 'a', 'r', 'r', 'i', 'n', 'g', 't', 'o', 'n'] ('C', 'a', 'r', 'r', 'i', 'n', 'g', 't', 'o', 'n')\n",
      "Nigeria\n",
      "bag book pen\n",
      "plates cups cooker\n"
     ]
    }
   ],
   "source": [
    "# List methods\n",
    "# 1. index()\n",
    "colors = ['red', 'green', 'blue', 'yellow', 'indigo', 'brown', 'violet']\n",
    "print(colors)\n",
    "red_location = colors.index('red')\n",
    "print(red_location)\n",
    "colors.remove('indigo')\n",
    "print(colors)\n",
    "\n",
    "# 2. remove, sort\n",
    "numbers = [1, 284, 3, 200, 5, 2, 53, 1 ]\n",
    "print(numbers)\n",
    "numbers.sort()\n",
    "print(numbers)\n",
    "numbers.reverse()\n",
    "print(numbers)\n",
    "\n",
    "# # # # # #\n",
    "myName = names[1]\n",
    "print(myName)\n",
    "print(list(myName), tuple(myName))\n",
    "\n",
    "# tuple\n",
    "country = ('Cameroon', 'Nigeria')\n",
    "print(country[1])\n",
    "\n",
    "utensils = [['bag', 'book', 'pen'], ['plates', 'cups', 'cooker']]\n",
    "for i, j, k in utensils:\n",
    "    print(i, j, k)"
   ]
  },
  {
   "cell_type": "code",
   "execution_count": 45,
   "id": "e1eceb86",
   "metadata": {},
   "outputs": [
    {
     "ename": "KeyboardInterrupt",
     "evalue": "",
     "output_type": "error",
     "traceback": [
      "\u001b[1;31m---------------------------------------------------------------------------\u001b[0m",
      "\u001b[1;31mKeyboardInterrupt\u001b[0m                         Traceback (most recent call last)",
      "Cell \u001b[1;32mIn[45], line 17\u001b[0m\n\u001b[0;32m     15\u001b[0m i \u001b[38;5;241m=\u001b[39m randrange(\u001b[38;5;241m0\u001b[39m, x)\n\u001b[0;32m     16\u001b[0m j \u001b[38;5;241m=\u001b[39m randrange(\u001b[38;5;241m0\u001b[39m, y)\n\u001b[1;32m---> 17\u001b[0m k \u001b[38;5;241m=\u001b[39m \u001b[43mrandrange\u001b[49m\u001b[43m(\u001b[49m\u001b[38;5;241;43m0\u001b[39;49m\u001b[43m,\u001b[49m\u001b[43m \u001b[49m\u001b[43mz\u001b[49m\u001b[43m)\u001b[49m\n\u001b[0;32m     18\u001b[0m \u001b[38;5;28;01mif\u001b[39;00m i\u001b[38;5;241m+\u001b[39mj\u001b[38;5;241m+\u001b[39mk \u001b[38;5;241m==\u001b[39m n:\n\u001b[0;32m     19\u001b[0m     \u001b[38;5;28;01mcontinue\u001b[39;00m\n",
      "File \u001b[1;32mc:\\Users\\fruma\\AppData\\Local\\Programs\\Python\\Python312\\Lib\\random.py:291\u001b[0m, in \u001b[0;36mRandom.randrange\u001b[1;34m(self, start, stop, step)\u001b[0m\n\u001b[0;32m    286\u001b[0m     \u001b[38;5;28;01mreturn\u001b[39;00m \u001b[38;5;28mself\u001b[39m\u001b[38;5;241m.\u001b[39mgetrandbits(n \u001b[38;5;241m*\u001b[39m \u001b[38;5;241m8\u001b[39m)\u001b[38;5;241m.\u001b[39mto_bytes(n, \u001b[38;5;124m'\u001b[39m\u001b[38;5;124mlittle\u001b[39m\u001b[38;5;124m'\u001b[39m)\n\u001b[0;32m    289\u001b[0m \u001b[38;5;66;03m## -------------------- integer methods  -------------------\u001b[39;00m\n\u001b[1;32m--> 291\u001b[0m \u001b[38;5;28;01mdef\u001b[39;00m \u001b[38;5;21mrandrange\u001b[39m(\u001b[38;5;28mself\u001b[39m, start, stop\u001b[38;5;241m=\u001b[39m\u001b[38;5;28;01mNone\u001b[39;00m, step\u001b[38;5;241m=\u001b[39m_ONE):\n\u001b[0;32m    292\u001b[0m \u001b[38;5;250m    \u001b[39m\u001b[38;5;124;03m\"\"\"Choose a random item from range(stop) or range(start, stop[, step]).\u001b[39;00m\n\u001b[0;32m    293\u001b[0m \n\u001b[0;32m    294\u001b[0m \u001b[38;5;124;03m    Roughly equivalent to ``choice(range(start, stop, step))`` but\u001b[39;00m\n\u001b[0;32m    295\u001b[0m \u001b[38;5;124;03m    supports arbitrarily large ranges and is optimized for common cases.\u001b[39;00m\n\u001b[0;32m    296\u001b[0m \n\u001b[0;32m    297\u001b[0m \u001b[38;5;124;03m    \"\"\"\u001b[39;00m\n\u001b[0;32m    299\u001b[0m     \u001b[38;5;66;03m# This code is a bit messy to make it fast for the\u001b[39;00m\n\u001b[0;32m    300\u001b[0m     \u001b[38;5;66;03m# common case while still doing adequate error checking.\u001b[39;00m\n",
      "\u001b[1;31mKeyboardInterrupt\u001b[0m: "
     ]
    }
   ],
   "source": [
    "# Exercise from Hackerrank\n",
    "from random import randrange\n",
    "\n",
    "x = int(input())\n",
    "y = int(input())\n",
    "z = int(input())\n",
    "n = int(input())\n",
    "permutations = []\n",
    "\n",
    "# number of permutations = n ** n\n",
    "\n",
    "# === TRIAL 1 ======\n",
    "# for i in range(n**n):\n",
    "#     if i == 0: permutations.append([0, 0, 0])\n",
    "#     else:\n",
    "#         while True:\n",
    "#             i = randrange(0, x)\n",
    "#             j = randrange(0, y)\n",
    "#             k = randrange(0, z)\n",
    "#             if i+j+k == n:\n",
    "#                 continue\n",
    "#             else:\n",
    "#                 point = [i, j, k]\n",
    "#                 if point not in permutations:\n",
    "#                     permutations.append(point)\n",
    "#                     break\n",
    "#                 else:\n",
    "#                     continue            \n",
    "\n",
    "# === TRIAL 2 ===\n",
    "for i in range(n**n):\n",
    "    if i == 0: permutations.append([0, 0, 0])\n",
    "    else:\n",
    "        while True:\n",
    "            \n",
    "               \n",
    "\n",
    "print(permutations)"
   ]
  },
  {
   "cell_type": "code",
   "execution_count": 59,
   "id": "6777ea59",
   "metadata": {},
   "outputs": [
    {
     "name": "stdout",
     "output_type": "stream",
     "text": [
      "{'Sodium': 'Na', 'litium': 'Li'}\n",
      "The symbol for Sodium is Na\n",
      "dict_keys(['Sodium', 'litium']) dict_values(['Na', 'Li']) dict_items([('Sodium', 'Na'), ('litium', 'Li')])\n",
      "['Sodium', 'litium']\n",
      "The symbol of Sodium is Na\n",
      "The symbol of litium is Li\n",
      "The unit for Mercury is Hg\n",
      "{'Sodium': 'Na', 'litium': 'Li', 'Titanium': 'Ti'}\n"
     ]
    }
   ],
   "source": [
    "# Dictionaries\n",
    "elements = {'Sodium': 'Na', 'litium': 'Li'}\n",
    "print(elements)\n",
    "print(f\"The symbol for Sodium is {elements['Sodium']}\")\n",
    "print(elements.keys(), elements.values(), elements.items())\n",
    "keys = list(elements.keys())\n",
    "print(keys)\n",
    "\n",
    "for i, j in elements.items():\n",
    "    print(f'The symbol of {i} is {j}')\n",
    "\n",
    "print(f'The unit for Mercury is {elements.get('mercury', 'Hg')}')\n",
    "\n",
    "elements.setdefault('Titanium', 'Ti')\n",
    "print(elements)"
   ]
  },
  {
   "cell_type": "code",
   "execution_count": 73,
   "id": "c815adee",
   "metadata": {},
   "outputs": [
    {
     "name": "stdout",
     "output_type": "stream",
     "text": [
      "0.600000\n",
      "0.200000\n",
      "0.200000\n"
     ]
    }
   ],
   "source": [
    "# practice\n",
    "\n",
    "def plusMinus(arr):\n",
    "    proportions = {'positive': 0, 'negative': 0, 'zero': 0}\n",
    "    for num in arr:\n",
    "        if num > 0:\n",
    "            proportions['positive']+=1\n",
    "        elif num < 0:\n",
    "            proportions['negative']+=1\n",
    "        else:\n",
    "            proportions['zero']+=1\n",
    "    for i in proportions.values():\n",
    "        print(f\"{(i/len(arr)):.6f}\")\n",
    "\n",
    "plusMinus([1, 2, -4, 0, 2])\n",
    "   \n",
    "\n",
    "\n"
   ]
  },
  {
   "cell_type": "code",
   "execution_count": 86,
   "id": "461633dc",
   "metadata": {},
   "outputs": [
    {
     "name": "stdout",
     "output_type": "stream",
     "text": [
      "\n",
      "'hello world'\n",
      "\n",
      "Hello this is your's\n",
      "how are you\\doing\n",
      "John Dowell Maxwell n Dowell Maxwell\n",
      "JOHN DOWELL MAXWELL john dowell maxwell False False\n",
      "False False False False True\n",
      "['John Dowell M', 'xwell']\n"
     ]
    }
   ],
   "source": [
    "# strings\n",
    "\n",
    "print(\"\"\"\n",
    "'hello world'\n",
    "\"\"\") ### string literals\n",
    "print('Hello this is your\\'s') # escape character\n",
    "print(\"how are you\\\\doing\")\n",
    "name = \"John Dowell Maxwell\"\n",
    "print(name, name[3:])\n",
    "print(name.upper(), name.lower(), name.isupper(), name.islower()) # important methods\n",
    "print(name.isalpha(), name.isalnum(), name.isnumeric(), name.isspace(), name.istitle()) # important check string methods\n",
    "print(name.split('a'))\n"
   ]
  },
  {
   "cell_type": "code",
   "execution_count": null,
   "id": "187b26ca",
   "metadata": {},
   "outputs": [],
   "source": []
  }
 ],
 "metadata": {
  "kernelspec": {
   "display_name": "Python 3",
   "language": "python",
   "name": "python3"
  },
  "language_info": {
   "codemirror_mode": {
    "name": "ipython",
    "version": 3
   },
   "file_extension": ".py",
   "mimetype": "text/x-python",
   "name": "python",
   "nbconvert_exporter": "python",
   "pygments_lexer": "ipython3",
   "version": "3.12.6"
  }
 },
 "nbformat": 4,
 "nbformat_minor": 5
}
