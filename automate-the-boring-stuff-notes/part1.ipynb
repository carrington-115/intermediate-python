{
 "cells": [
  {
   "cell_type": "code",
   "execution_count": 1,
   "id": "initial_id",
   "metadata": {
    "ExecuteTime": {
     "end_time": "2024-09-21T05:57:55.714152Z",
     "start_time": "2024-09-21T05:57:55.706043Z"
    },
    "collapsed": true
   },
   "outputs": [
    {
     "name": "stdout",
     "output_type": "stream",
     "text": [
      "hello world\n"
     ]
    }
   ],
   "source": [
    "print(\"hello world\")"
   ]
  },
  {
   "cell_type": "code",
   "execution_count": 4,
   "id": "d5ad3db926117c7f",
   "metadata": {
    "ExecuteTime": {
     "end_time": "2024-09-21T06:24:08.730774Z",
     "start_time": "2024-09-21T06:24:05.285143Z"
    }
   },
   "outputs": [
    {
     "name": "stdout",
     "output_type": "stream",
     "text": [
      "Enter your name\n",
      "Hello Carrington, and the length of your name is: 10\n"
     ]
    }
   ],
   "source": [
    "## program to test name input\n",
    "print(\"Enter your name\")\n",
    "name = input(\"Enter your name\")\n",
    "print(f\"Hello {name}, and the length of your name is: {len(name)}\")"
   ]
  },
  {
   "cell_type": "code",
   "execution_count": 3,
   "id": "c833b44384ec9140",
   "metadata": {},
   "outputs": [
    {
     "name": "stdout",
     "output_type": "stream",
     "text": [
      "Enter two numbers to find their sum\n",
      "The sum of 2 and 3 is 5\n"
     ]
    }
   ],
   "source": [
    "# addition test program\n",
    "print(\"Enter two numbers to find their sum\")\n",
    "num_1 = input(\"Enter the first number\")\n",
    "num_2 = input(\"Enter the second number\")\n",
    "sum = int(num_1) + int(num_2)\n",
    "print(f\"The sum of {num_1} and {num_2} is {sum}\")"
   ]
  },
  {
   "cell_type": "code",
   "execution_count": 11,
   "id": "aadc9353",
   "metadata": {},
   "outputs": [
    {
     "name": "stdout",
     "output_type": "stream",
     "text": [
      "Is it raining?\n",
      "The value of of rain is 1\n",
      "Do you have an umbrella?\n",
      "Do you have an umbrella?\n",
      "Do you have an umbrella?\n",
      "Then you need to get an umbrella\n"
     ]
    }
   ],
   "source": [
    "# Umbrella code fromm \"\"automate the boring stuff with python book\"\" - that is by using flow control\n",
    "\n",
    "import random\n",
    "print(\"Is it raining?\")\n",
    "rain = random.randrange(0, 2)\n",
    "print(f\"The value of of rain is {rain}\")\n",
    "while rain == 1:\n",
    "    print(\"Do you have an umbrella?\")\n",
    "    umbrella = input(\"Enter yes or no\")\n",
    "    if umbrella != 'yes' and umbrella != \"no\":\n",
    "        continue\n",
    "    else:\n",
    "        if umbrella == 'yes':\n",
    "            print(\"Then you're cautious about the weather\")\n",
    "        else:\n",
    "            print(\"Then you need to get an umbrella\")\n",
    "        break\n",
    "\n",
    "if rain == 0:\n",
    "    print(\"Then you're prepared\")"
   ]
  },
  {
   "cell_type": "code",
   "execution_count": 17,
   "id": "7556bb72",
   "metadata": {},
   "outputs": [
    {
     "name": "stdout",
     "output_type": "stream",
     "text": [
      "Do you have a watch\n",
      "You can't check the time.\n",
      "Completed\n"
     ]
    }
   ],
   "source": [
    "# testing the sys.exit() function\n",
    "\n",
    "import sys\n",
    "\n",
    "print(\"Do you have a watch\")\n",
    "answer = int(input(\"Enter 1 or 2\")) # 1 - True; 2 - False\n",
    "if answer == 1:\n",
    "    print(\"Check the time\")\n",
    "    sys.exit()\n",
    "elif answer == 2:\n",
    "    print(\"You can't check the time.\")\n",
    "\n",
    "print(\"Completed\")"
   ]
  },
  {
   "cell_type": "code",
   "execution_count": 21,
   "id": "948b8256",
   "metadata": {},
   "outputs": [
    {
     "name": "stdout",
     "output_type": "stream",
     "text": [
      "This the list revision\n",
      "['Mark', 'Carrington', 'Fru', 'Chei']\n",
      "Mark Carrington Fru Chei \n",
      "Mark Carrington Fru Chei \n",
      "My name is Carrington\n",
      "['Mark', 'Carrington', 'Fru', 'Chei']\n",
      "['Fru', 'Chei'] ['Mark', 'Carrington']\n",
      "not hello world\n",
      "['Mark', 'Carrington', 'Chei']\n"
     ]
    }
   ],
   "source": [
    "# revision or lists\n",
    "print(\"This the list revision\")\n",
    "names = ['Mark', 'Carrington', 'Fru', 'Chei']\n",
    "print(names)\n",
    "for i in range(len(names)):\n",
    "    print(names[i], end=' ')\n",
    "print()\n",
    "for name in names:\n",
    "    print(f\"{name} \", end=\"\")\n",
    "\n",
    "print()\n",
    "# indexing with negative indexes\n",
    "print(f\"My name is {names[-3]}\")\n",
    "\n",
    "# slices\n",
    "print(names[0:4])\n",
    "print(names[2:], names[:2])\n",
    "\n",
    "# deletion operation\n",
    "del names[2]\n",
    "\n",
    "# finding a list element\n",
    "numbers = [1, 2, 3, 4, 5, 6]\n",
    "if 1 in numbers: print(\"hello world\")\n",
    "else: print(\"not hello world\")\n",
    "\n",
    "# Final print\n",
    "print(names)"
   ]
  },
  {
   "cell_type": "code",
   "execution_count": 41,
   "id": "c7d5e970",
   "metadata": {},
   "outputs": [
    {
     "name": "stdout",
     "output_type": "stream",
     "text": [
      "['red', 'green', 'blue', 'yellow', 'indigo', 'brown', 'violet']\n",
      "0\n",
      "['red', 'green', 'blue', 'yellow', 'brown', 'violet']\n",
      "[1, 284, 3, 200, 5, 2, 53, 1]\n",
      "[1, 1, 2, 3, 5, 53, 200, 284]\n",
      "[284, 200, 53, 5, 3, 2, 1, 1]\n",
      "Carrington\n",
      "['C', 'a', 'r', 'r', 'i', 'n', 'g', 't', 'o', 'n'] ('C', 'a', 'r', 'r', 'i', 'n', 'g', 't', 'o', 'n')\n",
      "Nigeria\n"
     ]
    }
   ],
   "source": [
    "# List methods\n",
    "# 1. index()\n",
    "colors = ['red', 'green', 'blue', 'yellow', 'indigo', 'brown', 'violet']\n",
    "print(colors)\n",
    "red_location = colors.index('red')\n",
    "print(red_location)\n",
    "colors.remove('indigo')\n",
    "print(colors)\n",
    "\n",
    "# 2. remove, sort\n",
    "numbers = [1, 284, 3, 200, 5, 2, 53, 1 ]\n",
    "print(numbers)\n",
    "numbers.sort()\n",
    "print(numbers)\n",
    "numbers.reverse()\n",
    "print(numbers)\n",
    "\n",
    "# # # # # #\n",
    "myName = names[1]\n",
    "print(myName)\n",
    "print(list(myName), tuple(myName))\n",
    "\n",
    "# tuple\n",
    "country = ('Cameroon', 'Nigeria')\n",
    "print(country[1])"
   ]
  },
  {
   "cell_type": "code",
   "execution_count": null,
   "id": "e1eceb86",
   "metadata": {},
   "outputs": [],
   "source": [
    "# Dictionaries\n"
   ]
  }
 ],
 "metadata": {
  "kernelspec": {
   "display_name": "Python 3",
   "language": "python",
   "name": "python3"
  },
  "language_info": {
   "codemirror_mode": {
    "name": "ipython",
    "version": 3
   },
   "file_extension": ".py",
   "mimetype": "text/x-python",
   "name": "python",
   "nbconvert_exporter": "python",
   "pygments_lexer": "ipython3",
   "version": "3.12.6"
  }
 },
 "nbformat": 4,
 "nbformat_minor": 5
}
