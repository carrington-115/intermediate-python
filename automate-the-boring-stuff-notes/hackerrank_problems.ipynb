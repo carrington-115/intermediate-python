{
 "cells": [
  {
   "cell_type": "code",
   "execution_count": 4,
   "metadata": {},
   "outputs": [
    {
     "name": "stdout",
     "output_type": "stream",
     "text": [
      "Found non-repetitive element: 4\n"
     ]
    }
   ],
   "source": [
    "# to find element that does not repeat twice in an array\n",
    "def find_non_repetitive(array):\n",
    "    found_elements = []\n",
    "    for i in range(len(array)):\n",
    "        for j in range(len(array)):\n",
    "            if j != i and array[i] == array[j]:\n",
    "                found_elements.append(array[j])\n",
    "    for element in array:\n",
    "        if element not in found_elements:\n",
    "            print(f\"Found non-repetitive element: {element}\")\n",
    "            break\n",
    "        else:\n",
    "            continue\n",
    "\n",
    "find_non_repetitive([1, 2, 3, 4, 3, 2, 1])\n"
   ]
  },
  {
   "cell_type": "code",
   "execution_count": null,
   "metadata": {},
   "outputs": [],
   "source": [
    "# diagonal problem\n"
   ]
  }
 ],
 "metadata": {
  "kernelspec": {
   "display_name": "Python 3",
   "language": "python",
   "name": "python3"
  },
  "language_info": {
   "codemirror_mode": {
    "name": "ipython",
    "version": 3
   },
   "file_extension": ".py",
   "mimetype": "text/x-python",
   "name": "python",
   "nbconvert_exporter": "python",
   "pygments_lexer": "ipython3",
   "version": "3.12.6"
  }
 },
 "nbformat": 4,
 "nbformat_minor": 2
}
