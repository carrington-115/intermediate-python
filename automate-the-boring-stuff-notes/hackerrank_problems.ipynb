{
 "cells": [
  {
   "cell_type": "code",
   "execution_count": 4,
   "metadata": {},
   "outputs": [
    {
     "name": "stdout",
     "output_type": "stream",
     "text": [
      "Found non-repetitive element: 4\n"
     ]
    }
   ],
   "source": [
    "# to find element that does not repeat twice in an array\n",
    "def find_non_repetitive(array):\n",
    "    found_elements = []\n",
    "    for i in range(len(array)):\n",
    "        for j in range(len(array)):\n",
    "            if j != i and array[i] == array[j]:\n",
    "                found_elements.append(array[j])\n",
    "    for element in array:\n",
    "        if element not in found_elements:\n",
    "            print(f\"Found non-repetitive element: {element}\")\n",
    "            break\n",
    "        else:\n",
    "            continue\n",
    "\n",
    "find_non_repetitive([1, 2, 3, 4, 3, 2, 1])\n"
   ]
  },
  {
   "cell_type": "code",
   "execution_count": 12,
   "metadata": {},
   "outputs": [
    {
     "name": "stdout",
     "output_type": "stream",
     "text": [
      "{'first': 7}\n",
      "{'first': 7, 'second': 14}\n",
      "7\n"
     ]
    }
   ],
   "source": [
    "# diagonal problem - finding the absolute difference between diagonals of a square matrix\n",
    "\n",
    "def absolute_difference(matrix):\n",
    "    diagonal_element = 0\n",
    "    diagonal_sum = 0\n",
    "    matrix_size = len(matrix)\n",
    "    diagonals = {}\n",
    "    runs = 0\n",
    "    while runs < 2:\n",
    "        for i in range(matrix_size):\n",
    "            for j in range(len(matrix[i])):\n",
    "                if j == diagonal_element:\n",
    "                    diagonal_sum +=matrix[i][diagonal_element]\n",
    "            if runs == 0:\n",
    "                diagonal_element+=1\n",
    "            else:\n",
    "                diagonal_element-=1\n",
    "        if runs == 0: diagonals.setdefault('first', diagonal_sum)\n",
    "        else: diagonals.setdefault('second', diagonal_sum)\n",
    "        diagonal_sum = 0\n",
    "        diagonal_element = len(matrix[0])-1\n",
    "        print(diagonals)\n",
    "        runs+=1\n",
    "    return abs(diagonals.get('first', 0) - diagonals.get('second', 0))\n",
    "\n",
    "print(absolute_difference([[1,14,3], [4,4,6], [7, 0, 2]]))\n"
   ]
  },
  {
   "cell_type": "code",
   "execution_count": 1,
   "metadata": {},
   "outputs": [
    {
     "name": "stdout",
     "output_type": "stream",
     "text": [
      "[1, 1, 2, 3, 1]\n"
     ]
    },
    {
     "ename": "",
     "evalue": "",
     "output_type": "error",
     "traceback": [
      "\u001b[1;31mThe Kernel crashed while executing code in the current cell or a previous cell. \n",
      "\u001b[1;31mPlease review the code in the cell(s) to identify a possible cause of the failure. \n",
      "\u001b[1;31mClick <a href='https://aka.ms/vscodeJupyterKernelCrash'>here</a> for more info. \n",
      "\u001b[1;31mView Jupyter <a href='command:jupyter.viewOutput'>log</a> for further details."
     ]
    }
   ],
   "source": [
    "# quicksort problem and solution\n",
    "# this code compares quicksort with comparison sort\n",
    "\n",
    "numbers = [1, 1, 2, 3, 1]\n",
    "print(numbers)\n",
    "\n"
   ]
  },
  {
   "cell_type": "code",
   "execution_count": null,
   "metadata": {},
   "outputs": [],
   "source": []
  }
 ],
 "metadata": {
  "kernelspec": {
   "display_name": "Python 3",
   "language": "python",
   "name": "python3"
  },
  "language_info": {
   "codemirror_mode": {
    "name": "ipython",
    "version": 3
   },
   "file_extension": ".py",
   "mimetype": "text/x-python",
   "name": "python",
   "nbconvert_exporter": "python",
   "pygments_lexer": "ipython3",
   "version": "3.12.6"
  }
 },
 "nbformat": 4,
 "nbformat_minor": 2
}
