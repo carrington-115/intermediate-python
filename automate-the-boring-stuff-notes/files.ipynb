{
 "cells": [
  {
   "cell_type": "code",
   "execution_count": 2,
   "metadata": {},
   "outputs": [
    {
     "name": "stdout",
     "output_type": "stream",
     "text": [
      "welcome to working with files\n"
     ]
    }
   ],
   "source": [
    "print('welcome to working with files')"
   ]
  },
  {
   "cell_type": "code",
   "execution_count": 17,
   "metadata": {},
   "outputs": [
    {
     "name": "stdout",
     "output_type": "stream",
     "text": [
      "new_paths\\hello\\world\n",
      "c:\\Users\\fruma\\onedrive\\desktop\\courses-and-certifications\\intermediate-python\\automate-the-boring-stuff-notes\n",
      "c:\\Users\\fruma\\onedrive\\desktop\\courses-and-certifications\\intermediate-python\n",
      "This is the current working directory:  c:\\Users\\fruma\\onedrive\\desktop\\courses-and-certifications\\intermediate-python\\automate-the-boring-stuff-notes\n"
     ]
    },
    {
     "name": "stderr",
     "output_type": "stream",
     "text": [
      "<>:9: SyntaxWarning: invalid escape sequence '\\o'\n",
      "<>:9: SyntaxWarning: invalid escape sequence '\\o'\n",
      "C:\\Users\\fruma\\AppData\\Local\\Temp\\ipykernel_4132\\312379302.py:9: SyntaxWarning: invalid escape sequence '\\o'\n",
      "  chdir(\"c:\\\\Users\\\\fruma\\onedrive\\\\desktop\\\\courses-and-certifications\\\\intermediate-python\\\\automate-the-boring-stuff-notes\")\n"
     ]
    }
   ],
   "source": [
    "from os import path, getcwd, chdir\n",
    "newPath = path.join('new_paths', 'hello', 'world')\n",
    "print(newPath)\n",
    "\n",
    "# getting the current working directory and changing directory\n",
    "print(getcwd())\n",
    "chdir('..')\n",
    "print(getcwd())\n",
    "chdir(\"c:\\\\Users\\\\fruma\\onedrive\\\\desktop\\\\courses-and-certifications\\\\intermediate-python\\\\automate-the-boring-stuff-notes\")\n",
    "print(\"This is the current working directory: \", getcwd())\n",
    "\n",
    "\n"
   ]
  },
  {
   "cell_type": "code",
   "execution_count": 35,
   "metadata": {},
   "outputs": [
    {
     "name": "stdout",
     "output_type": "stream",
     "text": [
      "c:\\Users\\fruma\\onedrive\\desktop\\courses-and-certifications\\intermediate-python\\automate-the-boring-stuff-notes\\automate-the-boring-stuff-notes\n",
      "False\n",
      "True\n",
      "c:\\Users\\fruma\\onedrive\\desktop\\courses-and-certifications\\intermediate-python\\automate-the-boring-stuff-notes\n",
      "..\\..\\..\\savedgames\n",
      "c:\\Users\\fruma\\onedrive\\desktop\\courses-and-certifications\\intermediate-python automate-the-boring-stuff-notes\n",
      "('c:\\\\Users\\\\fruma\\\\onedrive\\\\desktop\\\\courses-and-certifications\\\\intermediate-python', 'automate-the-boring-stuff-notes')\n",
      "['c:', 'Users', 'fruma', 'onedrive', 'desktop', 'courses-and-certifications', 'intermediate-python', 'automate-the-boring-stuff-notes']\n",
      "4096\n",
      "['files.ipynb', 'hackerrank_problems.ipynb', 'part1.ipynb', 'regex.ipynb']\n"
     ]
    }
   ],
   "source": [
    "# working with relative and absolute paths\n",
    "import os\n",
    "path_1 = os.path.abspath('.\\\\automate-the-boring-stuff-notes') # convert the abs path to relative path\n",
    "print(path_1)\n",
    "print(os.path.isabs('.'))\n",
    "print(os.path.isabs(os.path.abspath('.')))\n",
    "print(os.path.abspath('.'))\n",
    "\n",
    "# os.path other methods\n",
    "new_relative_path = os.path.relpath('c:\\\\Users\\\\savedgames', 'c:\\\\Users\\\\fruma\\\\onedrive\\\\desktop') # converts relative path to abs path\n",
    "print(new_relative_path)\n",
    "print(os.path.dirname(os.path.abspath('.')), os.path.basename(os.path.abspath('.'))) # using the dirname and basename methods\n",
    "print(os.path.split(os.path.abspath('.'))) # tuple of dirname and basename\n",
    "print(os.path.abspath('.').split(os.path.sep)) # getting a list of all the associated folders in the path\n",
    "\n",
    "# calculating file sizes\n",
    "print(os.path.getsize(os.path.abspath('.'))) # file size in bytes\n",
    "print(os.listdir(os.path.abspath('.'))) # list all the files in the path\n"
   ]
  },
  {
   "cell_type": "code",
   "execution_count": null,
   "metadata": {},
   "outputs": [],
   "source": []
  }
 ],
 "metadata": {
  "kernelspec": {
   "display_name": "Python 3",
   "language": "python",
   "name": "python3"
  },
  "language_info": {
   "codemirror_mode": {
    "name": "ipython",
    "version": 3
   },
   "file_extension": ".py",
   "mimetype": "text/x-python",
   "name": "python",
   "nbconvert_exporter": "python",
   "pygments_lexer": "ipython3",
   "version": "3.12.6"
  }
 },
 "nbformat": 4,
 "nbformat_minor": 2
}
