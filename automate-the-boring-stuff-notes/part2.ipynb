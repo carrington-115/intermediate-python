{
 "cells": [
  {
   "cell_type": "code",
   "execution_count": 35,
   "metadata": {},
   "outputs": [
    {
     "name": "stdout",
     "output_type": "stream",
     "text": [
      "This is the result of the pattern: 678-978-674 <class 're.Match'>\n"
     ]
    }
   ],
   "source": [
    "# Chapter-1: Pattern matching with regex\n",
    "import re\n",
    "\n",
    "data = re.compile(r'\\d\\d\\d-\\d\\d\\d-\\d\\d\\d')\n",
    "\n",
    "# example\n",
    "message = \"Hello. How are you doing? This is my phone number 678-978-674\"\n",
    "analysis = data.search(message)\n",
    "print(f\"This is the result of the pattern: {analysis.group()}\", f\"{type(analysis)}\")\n"
   ]
  },
  {
   "cell_type": "code",
   "execution_count": 60,
   "metadata": {},
   "outputs": [
    {
     "name": "stdout",
     "output_type": "stream",
     "text": [
      "('237', '679', '688', '944') 688\n"
     ]
    }
   ],
   "source": [
    "import re\n",
    "phone_number_pattern = re.compile(r'(\\d\\d\\d)-(\\d\\d\\d)-(\\d\\d\\d)-(\\d\\d\\d)')\n",
    "get_phone_pattern = phone_number_pattern.search(\"hello there. My contact is 237-679-688-944\")\n",
    "print(get_phone_pattern.groups(), get_phone_pattern.group(3))"
   ]
  },
  {
   "cell_type": "code",
   "execution_count": 4,
   "metadata": {},
   "outputs": [
    {
     "name": "stdout",
     "output_type": "stream",
     "text": [
      "\n",
      "The data give is a phone number\n",
      "\n",
      "The data is not phone nubmer\n"
     ]
    }
   ],
   "source": [
    "# program 1: detecting a phone number\n",
    "\n",
    "def isPhoneNumber(value):\n",
    "    phone_data = value.split('-')\n",
    "    if len(phone_data) == 3:\n",
    "        if len(phone_data[0]) == 3 and len(phone_data[1]) == 3 and len(phone_data[2]) == 3:\n",
    "            print(\"\\nThe data give is a phone number\")\n",
    "    else:\n",
    "        print(\"\\nThe data is not phone nubmer\")\n",
    "\n",
    "isPhoneNumber(\"435-234-333\")\n",
    "isPhoneNumber(\"dkjalfsdja;\")\n",
    "\n"
   ]
  },
  {
   "cell_type": "code",
   "execution_count": 154,
   "metadata": {},
   "outputs": [
    {
     "name": "stdout",
     "output_type": "stream",
     "text": [
      "234-692-488-893 participating\n",
      "man\n",
      "<re.Match object; span=(53, 61), match='hmmmmmmm'>\n",
      "<re.Match object; span=(98, 102), match='hehe'>\n",
      "<class 'list'> [('', '', 'he'), ('hahahaha', 'ha', ''), ('hahaha', 'ha', '')]\n",
      "[('(237)-677-230-930', '(237)', '677-230-930', '', '', ''), ('', '', '', '+234-738-389-938', '+234', '738-389-938')]\n",
      "Peter Macdowell\n",
      "Hello\n",
      "world\n",
      "['h', 'e', 'l', 'l', 'o', 'o', 'l']\n"
     ]
    }
   ],
   "source": [
    "# continuation\n",
    "import re\n",
    "\n",
    "message = \"\"\"\n",
    "Hello world! I am Cassandra from B'de. You can reach me on 234-692-488-893.\n",
    "I love participating in nature protection programs.\n",
    "\"\"\"\n",
    "phone = re.compile(r'(\\d\\d\\d)-(\\d\\d\\d-\\d\\d\\d-\\d\\d\\d)')\n",
    "words = re.compile(r'(participating|nature|protection)')\n",
    "phone_search = phone.search(message)\n",
    "words_search = words.search(message)\n",
    "print(phone_search.group(), words_search.group())\n",
    "\n",
    "# optional matching\n",
    "humans_words = re.compile(r'(wo)?man')\n",
    "humans = humans_words.search('In the beginning, God created man and woman')\n",
    "print(humans.group())\n",
    "\n",
    "# multiple matching\n",
    "message = \"\"\"\n",
    "Hey everyone! I'm working on an innovative project. hmmmmmmm. This is what it looks hmmmmm like.\n",
    "hehe. Here it goes. This project is ground breaking. hahahaha. hahahawhat\n",
    "\"\"\"\n",
    "find_hm = re.compile(r'h(m)*m')\n",
    "buzz_words = find_hm.search(message)\n",
    "print(buzz_words)\n",
    "\n",
    "another_buzz_find = re.compile(r'((ha){3,5})|(he){2}')\n",
    "buzz_laugh = another_buzz_find.search(message)\n",
    "print(buzz_laugh)\n",
    "\n",
    "# using the findAll()\n",
    "buzz_laugh_all = another_buzz_find.findall(message)\n",
    "print(type(buzz_laugh_all), buzz_laugh_all)\n",
    "\n",
    "# finding multiple phone numbers with different patterns\n",
    "phones = re.compile(r'((\\(\\d\\d\\d\\))-?(\\d\\d\\d-\\d\\d\\d-\\d\\d\\d))|((\\D?\\d\\d\\d)-?(\\d\\d\\d-\\d\\d\\d-\\d\\d\\d))')\n",
    "phones_find = phones.findall('Work: (237)-677-230-930, Home: +234-738-389-938d')\n",
    "print(phones_find)\n",
    "\n",
    "# pattern to identify the name Peter Macdowell\n",
    "name_match = re.compile(r'(\\w\\w\\w\\w\\w)\\s\\w\\w\\w\\w\\w\\w\\w\\w\\w')\n",
    "match_analysis = name_match.search('My name is Peter Macdowell')\n",
    "print(match_analysis.group())\n",
    "\n",
    "# detecting new line in a string pattern\n",
    "text = \"\"\"\n",
    "Hello\n",
    "world\n",
    "\"\"\"\n",
    "new_line_detect = re.compile(r\"\\w\\w\\w\\w\\w\\s\\w\\w\\w\\w\\w\")\n",
    "new_line_detect_match = new_line_detect.search(text)\n",
    "print(new_line_detect_match.group())\n",
    "\n",
    "# \n",
    "test_match = re.compile(r'[hello]')\n",
    "test_match_analysis = test_match.findall('hello World')\n",
    "print(test_match_analysis)\n",
    "\n"
   ]
  },
  {
   "cell_type": "code",
   "execution_count": 4,
   "metadata": {},
   "outputs": [
    {
     "name": "stdout",
     "output_type": "stream",
     "text": [
      "('+237', '677-789-999')\n",
      "hello\n"
     ]
    }
   ],
   "source": [
    "# test cell\n",
    "import re\n",
    "\n",
    "# phone find test\n",
    "phone_match = re.compile(r'(\\D\\d\\d\\d)-(\\d\\d\\d-\\d\\d\\d-\\d\\d\\d)')\n",
    "phone_search = phone_match.search(\"Hello world this is my phone: +237-677-789-999\")\n",
    "print(phone_search.groups())\n",
    "\n",
    "# multiple single phrase search\n",
    "phrase = \"hello world\"\n",
    "phrase_search = re.compile(r'hello|world')\n",
    "print(phrase_search.search(phrase).group())\n",
    "\n"
   ]
  },
  {
   "cell_type": "code",
   "execution_count": 32,
   "metadata": {},
   "outputs": [
    {
     "name": "stdout",
     "output_type": "stream",
     "text": [
      "['ali', 'all', 'alu']\n",
      "('Fru', 'Carrington')\n",
      "None\n"
     ]
    }
   ],
   "source": [
    "# continuation\n",
    "all_words = re.compile(r'(al.)+')\n",
    "print(all_words.findall('ali how are you doing. did you play ball today. What about the structure of the aluminium compound'))\n",
    "\n",
    "# name picker\n",
    "name_picker = re.compile(r'First name: (.*) Last name: (.*)')\n",
    "print(name_picker.search(\"First name: Fru Last name: Carrington\").groups())\n",
    "\n",
    "# using the re.VERBOSE mode for complex regexes\n",
    "try_search = re.compile(r'\\.')\n",
    "\n"
   ]
  },
  {
   "cell_type": "code",
   "execution_count": null,
   "metadata": {},
   "outputs": [],
   "source": []
  }
 ],
 "metadata": {
  "kernelspec": {
   "display_name": "Python 3",
   "language": "python",
   "name": "python3"
  },
  "language_info": {
   "codemirror_mode": {
    "name": "ipython",
    "version": 3
   },
   "file_extension": ".py",
   "mimetype": "text/x-python",
   "name": "python",
   "nbconvert_exporter": "python",
   "pygments_lexer": "ipython3",
   "version": "3.12.6"
  }
 },
 "nbformat": 4,
 "nbformat_minor": 2
}
