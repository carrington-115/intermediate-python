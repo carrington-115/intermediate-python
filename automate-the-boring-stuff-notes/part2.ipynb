{
 "cells": [
  {
   "cell_type": "code",
   "execution_count": 35,
   "metadata": {},
   "outputs": [
    {
     "name": "stdout",
     "output_type": "stream",
     "text": [
      "This is the result of the pattern: 678-978-674 <class 're.Match'>\n"
     ]
    }
   ],
   "source": [
    "# Chapter-1: Pattern matching with regex\n",
    "import re\n",
    "\n",
    "data = re.compile(r'\\d\\d\\d-\\d\\d\\d-\\d\\d\\d')\n",
    "\n",
    "# example\n",
    "message = \"Hello. How are you doing? This is my phone number 678-978-674\"\n",
    "analysis = data.search(message)\n",
    "print(f\"This is the result of the pattern: {analysis.group()}\", f\"{type(analysis)}\")\n"
   ]
  },
  {
   "cell_type": "code",
   "execution_count": 43,
   "metadata": {},
   "outputs": [
    {
     "name": "stdout",
     "output_type": "stream",
     "text": [
      "('237', '679', '688', '944')\n"
     ]
    }
   ],
   "source": [
    "import re\n",
    "phone_number_pattern = re.compile(r'(\\d\\d\\d)-(\\d\\d\\d)-(\\d\\d\\d)-(\\d\\d\\d)')\n",
    "get_phone_pattern = phone_number_pattern.search(\"hello there. My contact is 237-679-688-944\")\n",
    "print(get_phone_pattern.groups())"
   ]
  },
  {
   "cell_type": "code",
   "execution_count": 4,
   "metadata": {},
   "outputs": [
    {
     "name": "stdout",
     "output_type": "stream",
     "text": [
      "\n",
      "The data give is a phone number\n",
      "\n",
      "The data is not phone nubmer\n"
     ]
    }
   ],
   "source": [
    "# program 1: detecting a phone number\n",
    "\n",
    "def isPhoneNumber(value):\n",
    "    phone_data = value.split('-')\n",
    "    if len(phone_data) == 3:\n",
    "        if len(phone_data[0]) == 3 and len(phone_data[1]) == 3 and len(phone_data[2]) == 3:\n",
    "            print(\"\\nThe data give is a phone number\")\n",
    "    else:\n",
    "        print(\"\\nThe data is not phone nubmer\")\n",
    "\n",
    "isPhoneNumber(\"435-234-333\")\n",
    "isPhoneNumber(\"dkjalfsdja;\")\n",
    "\n"
   ]
  },
  {
   "cell_type": "code",
   "execution_count": null,
   "metadata": {},
   "outputs": [],
   "source": []
  }
 ],
 "metadata": {
  "kernelspec": {
   "display_name": "Python 3",
   "language": "python",
   "name": "python3"
  },
  "language_info": {
   "codemirror_mode": {
    "name": "ipython",
    "version": 3
   },
   "file_extension": ".py",
   "mimetype": "text/x-python",
   "name": "python",
   "nbconvert_exporter": "python",
   "pygments_lexer": "ipython3",
   "version": "3.12.6"
  }
 },
 "nbformat": 4,
 "nbformat_minor": 2
}
