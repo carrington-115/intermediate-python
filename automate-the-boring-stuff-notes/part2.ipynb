{
 "cells": [
  {
   "cell_type": "code",
   "execution_count": 3,
   "metadata": {},
   "outputs": [
    {
     "name": "stdout",
     "output_type": "stream",
     "text": [
      "hello world\n",
      "['lasdjf;lajsdlfkja']\n"
     ]
    }
   ],
   "source": [
    "print('hello world')\n",
    "\n",
    "print('lasdjf;lajsdlfkja'.split('-'))"
   ]
  },
  {
   "cell_type": "code",
   "execution_count": 4,
   "metadata": {},
   "outputs": [
    {
     "name": "stdout",
     "output_type": "stream",
     "text": [
      "\n",
      "The data give is a phone number\n",
      "\n",
      "The data is not phone nubmer\n"
     ]
    }
   ],
   "source": [
    "# Chapter-1: Pattern matching with regex\n",
    "\n",
    "# program 1: detecting a phone number\n",
    "\n",
    "def isPhoneNumber(value):\n",
    "    phone_data = value.split('-')\n",
    "    if len(phone_data) == 3:\n",
    "        if len(phone_data[0]) == 3 and len(phone_data[1]) == 3 and len(phone_data[2]) == 3:\n",
    "            print(\"\\nThe data give is a phone number\")\n",
    "    else:\n",
    "        print(\"\\nThe data is not phone nubmer\")\n",
    "\n",
    "isPhoneNumber(\"435-234-333\")\n",
    "isPhoneNumber(\"dkjalfsdja;\")\n",
    "\n"
   ]
  },
  {
   "cell_type": "code",
   "execution_count": null,
   "metadata": {},
   "outputs": [],
   "source": []
  }
 ],
 "metadata": {
  "kernelspec": {
   "display_name": "Python 3",
   "language": "python",
   "name": "python3"
  },
  "language_info": {
   "codemirror_mode": {
    "name": "ipython",
    "version": 3
   },
   "file_extension": ".py",
   "mimetype": "text/x-python",
   "name": "python",
   "nbconvert_exporter": "python",
   "pygments_lexer": "ipython3",
   "version": "3.12.6"
  }
 },
 "nbformat": 4,
 "nbformat_minor": 2
}
