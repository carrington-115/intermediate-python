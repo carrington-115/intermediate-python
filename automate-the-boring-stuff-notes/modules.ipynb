{
 "cells": [
  {
   "cell_type": "code",
   "execution_count": 2,
   "metadata": {},
   "outputs": [
    {
     "name": "stdout",
     "output_type": "stream",
     "text": [
      "hello world! This is modules\n"
     ]
    }
   ],
   "source": [
    "print('hello world! This is modules')"
   ]
  },
  {
   "cell_type": "code",
   "execution_count": 3,
   "metadata": {},
   "outputs": [
    {
     "name": "stdout",
     "output_type": "stream",
     "text": [
      "Collecting emoji\n",
      "  Downloading emoji-2.14.0-py3-none-any.whl.metadata (5.7 kB)\n",
      "Downloading emoji-2.14.0-py3-none-any.whl (586 kB)\n",
      "   ---------------------------------------- 0.0/586.9 kB ? eta -:--:--\n",
      "   ----------------- ---------------------- 262.1/586.9 kB ? eta -:--:--\n",
      "   ---------------------------------------- 586.9/586.9 kB 2.3 MB/s eta 0:00:00\n",
      "Installing collected packages: emoji\n",
      "Successfully installed emoji-2.14.0\n",
      "Note: you may need to restart the kernel to use updated packages.\n"
     ]
    },
    {
     "name": "stderr",
     "output_type": "stream",
     "text": [
      "\n",
      "[notice] A new release of pip is available: 24.2 -> 24.3.1\n",
      "[notice] To update, run: python.exe -m pip install --upgrade pip\n"
     ]
    }
   ],
   "source": [
    "pip install emoji"
   ]
  },
  {
   "cell_type": "code",
   "execution_count": 13,
   "metadata": {},
   "outputs": [
    {
     "name": "stdout",
     "output_type": "stream",
     "text": [
      "False\n",
      "You entered, dfasdf and transform to, dfasdf\n"
     ]
    }
   ],
   "source": [
    "import emoji\n",
    "\n",
    "# text to emoji\n",
    "def text_to_emoji(text):\n",
    "    return emoji.emojize(text)\n",
    "\n",
    "def main():\n",
    "    while True:\n",
    "        try:\n",
    "            text = input('Enter the text')\n",
    "        except ValueError:\n",
    "            pass\n",
    "        else:\n",
    "            break\n",
    "    converted = text_to_emoji(text)\n",
    "    print(emoji.is_emoji(converted))\n",
    "    print(f\"You entered, {text} and transform to, {converted}\")\n",
    "\n",
    "main()\n"
   ]
  },
  {
   "cell_type": "code",
   "execution_count": 8,
   "metadata": {},
   "outputs": [
    {
     "name": "stdout",
     "output_type": "stream",
     "text": [
      "Requirement already satisfied: qrcode in c:\\users\\fruma\\appdata\\local\\programs\\python\\python312\\lib\\site-packages (8.0)\n",
      "Requirement already satisfied: colorama in c:\\users\\fruma\\appdata\\local\\programs\\python\\python312\\lib\\site-packages (from qrcode) (0.4.6)\n",
      "Note: you may need to restart the kernel to use updated packages.\n"
     ]
    }
   ],
   "source": [
    "pip install qrcode"
   ]
  },
  {
   "cell_type": "code",
   "execution_count": 5,
   "metadata": {},
   "outputs": [
    {
     "name": "stdout",
     "output_type": "stream",
     "text": [
      "Requirement already satisfied: pip in c:\\users\\fruma\\appdata\\local\\programs\\python\\python312\\lib\\site-packages (24.2)Note: you may need to restart the kernel to use updated packages.\n",
      "\n",
      "Collecting pip\n",
      "  Downloading pip-24.3.1-py3-none-any.whl.metadata (3.7 kB)\n",
      "Downloading pip-24.3.1-py3-none-any.whl (1.8 MB)\n",
      "   ---------------------------------------- 0.0/1.8 MB ? eta -:--:--\n",
      "   ----- ---------------------------------- 0.3/1.8 MB ? eta -:--:--\n",
      "   ----------- ---------------------------- 0.5/1.8 MB 2.4 MB/s eta 0:00:01\n",
      "   ----------------------- ---------------- 1.0/1.8 MB 1.9 MB/s eta 0:00:01\n",
      "   ---------------------------------- ----- 1.6/1.8 MB 2.1 MB/s eta 0:00:01\n",
      "   ---------------------------------------- 1.8/1.8 MB 2.1 MB/s eta 0:00:00\n",
      "Installing collected packages: pip\n",
      "  Attempting uninstall: pip\n",
      "    Found existing installation: pip 24.2\n",
      "    Uninstalling pip-24.2:\n",
      "      Successfully uninstalled pip-24.2\n",
      "Successfully installed pip-24.3.1\n"
     ]
    },
    {
     "name": "stderr",
     "output_type": "stream",
     "text": [
      "  WARNING: The scripts pip.exe, pip3.12.exe and pip3.exe are installed in 'c:\\Users\\fruma\\AppData\\Local\\Programs\\Python\\Python312\\Scripts' which is not on PATH.\n",
      "  Consider adding this directory to PATH or, if you prefer to suppress this warning, use --no-warn-script-location.\n"
     ]
    }
   ],
   "source": [
    "pip install --upgrade pip"
   ]
  },
  {
   "cell_type": "code",
   "execution_count": 14,
   "metadata": {},
   "outputs": [
    {
     "name": "stdout",
     "output_type": "stream",
     "text": [
      "Collecting pillow\n",
      "  Downloading pillow-11.0.0-cp312-cp312-win_amd64.whl.metadata (9.3 kB)\n",
      "Downloading pillow-11.0.0-cp312-cp312-win_amd64.whl (2.6 MB)\n",
      "   ---------------------------------------- 0.0/2.6 MB ? eta -:--:--\n",
      "   ---------------------------------------- 0.0/2.6 MB ? eta -:--:--\n",
      "   ---- ----------------------------------- 0.3/2.6 MB ? eta -:--:--\n",
      "   ------------ --------------------------- 0.8/2.6 MB 2.0 MB/s eta 0:00:01\n",
      "   ---------------- ----------------------- 1.0/2.6 MB 2.0 MB/s eta 0:00:01\n",
      "   ---------------- ----------------------- 1.0/2.6 MB 2.0 MB/s eta 0:00:01\n",
      "   ------------------------ --------------- 1.6/2.6 MB 1.6 MB/s eta 0:00:01\n",
      "   -------------------------------- ------- 2.1/2.6 MB 1.8 MB/s eta 0:00:01\n",
      "   ------------------------------------ --- 2.4/2.6 MB 1.7 MB/s eta 0:00:01\n",
      "   ---------------------------------------- 2.6/2.6 MB 1.7 MB/s eta 0:00:00\n",
      "Installing collected packages: pillow\n",
      "Successfully installed pillow-11.0.0\n",
      "Note: you may need to restart the kernel to use updated packages.\n"
     ]
    }
   ],
   "source": [
    "pip install pillow"
   ]
  },
  {
   "cell_type": "code",
   "execution_count": 19,
   "metadata": {},
   "outputs": [
    {
     "name": "stdout",
     "output_type": "stream",
     "text": [
      "Requirement already satisfied: qrcode[pil] in c:\\users\\fruma\\appdata\\local\\programs\\python\\python312\\lib\\site-packages (8.0)\n",
      "Requirement already satisfied: colorama in c:\\users\\fruma\\appdata\\local\\programs\\python\\python312\\lib\\site-packages (from qrcode[pil]) (0.4.6)\n",
      "Requirement already satisfied: pillow>=9.1.0 in c:\\users\\fruma\\appdata\\local\\programs\\python\\python312\\lib\\site-packages (from qrcode[pil]) (11.0.0)\n",
      "Note: you may need to restart the kernel to use updated packages.\n"
     ]
    }
   ],
   "source": [
    "pip install qrcode[pil]"
   ]
  },
  {
   "cell_type": "code",
   "execution_count": 22,
   "metadata": {},
   "outputs": [],
   "source": [
    "# qrcode generator\n",
    "import qrcode\n",
    "from PIL import Image\n",
    "\n",
    "def data_entry():\n",
    "    return input(\"Enter data: \")\n",
    "\n",
    "def generate_qrcode_image(data):\n",
    "    qr = qrcode.QRCode(version=2, border=4, box_size=10)\n",
    "    qr.add_data(data)\n",
    "    qr.make(fit=True)\n",
    "    image = qr.make_image(fill='black', back_color='white')\n",
    "    image.save('qrcode.jpg')\n",
    "    with Image.open('qrcode.jpg') as img:\n",
    "        img.show()\n",
    "    \n",
    "\n",
    "def main():\n",
    "    data = data_entry()\n",
    "    generate_qrcode_image(data)\n",
    "\n",
    "main()\n",
    "\n",
    "\n"
   ]
  },
  {
   "cell_type": "code",
   "execution_count": 28,
   "metadata": {},
   "outputs": [
    {
     "name": "stdout",
     "output_type": "stream",
     "text": [
      "227680\n"
     ]
    }
   ],
   "source": [
    "# otp generation program\n",
    "\n",
    "import secrets\n",
    "\n",
    "def generate_otp(length=6):\n",
    "    return ''.join(str(secrets.randbelow(10)) for _ in range(length))\n",
    "\n",
    "print(generate_otp())"
   ]
  },
  {
   "cell_type": "code",
   "execution_count": null,
   "metadata": {},
   "outputs": [],
   "source": []
  }
 ],
 "metadata": {
  "kernelspec": {
   "display_name": "Python 3",
   "language": "python",
   "name": "python3"
  },
  "language_info": {
   "codemirror_mode": {
    "name": "ipython",
    "version": 3
   },
   "file_extension": ".py",
   "mimetype": "text/x-python",
   "name": "python",
   "nbconvert_exporter": "python",
   "pygments_lexer": "ipython3",
   "version": "3.12.6"
  }
 },
 "nbformat": 4,
 "nbformat_minor": 2
}
