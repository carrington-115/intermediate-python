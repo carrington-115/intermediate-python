{
 "cells": [
  {
   "cell_type": "code",
   "execution_count": 2,
   "metadata": {},
   "outputs": [
    {
     "name": "stdout",
     "output_type": "stream",
     "text": [
      "hello world! This is modules\n"
     ]
    }
   ],
   "source": [
    "print('hello world! This is modules')"
   ]
  },
  {
   "cell_type": "code",
   "execution_count": 3,
   "metadata": {},
   "outputs": [
    {
     "name": "stdout",
     "output_type": "stream",
     "text": [
      "Collecting emoji\n",
      "  Downloading emoji-2.14.0-py3-none-any.whl.metadata (5.7 kB)\n",
      "Downloading emoji-2.14.0-py3-none-any.whl (586 kB)\n",
      "   ---------------------------------------- 0.0/586.9 kB ? eta -:--:--\n",
      "   ----------------- ---------------------- 262.1/586.9 kB ? eta -:--:--\n",
      "   ---------------------------------------- 586.9/586.9 kB 2.3 MB/s eta 0:00:00\n",
      "Installing collected packages: emoji\n",
      "Successfully installed emoji-2.14.0\n",
      "Note: you may need to restart the kernel to use updated packages.\n"
     ]
    },
    {
     "name": "stderr",
     "output_type": "stream",
     "text": [
      "\n",
      "[notice] A new release of pip is available: 24.2 -> 24.3.1\n",
      "[notice] To update, run: python.exe -m pip install --upgrade pip\n"
     ]
    }
   ],
   "source": [
    "pip install emoji"
   ]
  },
  {
   "cell_type": "code",
   "execution_count": 13,
   "metadata": {},
   "outputs": [
    {
     "name": "stdout",
     "output_type": "stream",
     "text": [
      "False\n",
      "You entered, dfasdf and transform to, dfasdf\n"
     ]
    }
   ],
   "source": [
    "import emoji\n",
    "\n",
    "# text to emoji\n",
    "def text_to_emoji(text):\n",
    "    return emoji.emojize(text)\n",
    "\n",
    "def main():\n",
    "    while True:\n",
    "        try:\n",
    "            text = input('Enter the text')\n",
    "        except ValueError:\n",
    "            pass\n",
    "        else:\n",
    "            break\n",
    "    converted = text_to_emoji(text)\n",
    "    print(emoji.is_emoji(converted))\n",
    "    print(f\"You entered, {text} and transform to, {converted}\")\n",
    "\n",
    "main()\n"
   ]
  },
  {
   "cell_type": "code",
   "execution_count": 8,
   "metadata": {},
   "outputs": [
    {
     "name": "stdout",
     "output_type": "stream",
     "text": [
      "Requirement already satisfied: qrcode in c:\\users\\fruma\\appdata\\local\\programs\\python\\python312\\lib\\site-packages (8.0)\n",
      "Requirement already satisfied: colorama in c:\\users\\fruma\\appdata\\local\\programs\\python\\python312\\lib\\site-packages (from qrcode) (0.4.6)\n",
      "Note: you may need to restart the kernel to use updated packages.\n"
     ]
    }
   ],
   "source": [
    "pip install qrcode"
   ]
  },
  {
   "cell_type": "code",
   "execution_count": 5,
   "metadata": {},
   "outputs": [
    {
     "name": "stdout",
     "output_type": "stream",
     "text": [
      "Requirement already satisfied: pip in c:\\users\\fruma\\appdata\\local\\programs\\python\\python312\\lib\\site-packages (24.2)Note: you may need to restart the kernel to use updated packages.\n",
      "\n",
      "Collecting pip\n",
      "  Downloading pip-24.3.1-py3-none-any.whl.metadata (3.7 kB)\n",
      "Downloading pip-24.3.1-py3-none-any.whl (1.8 MB)\n",
      "   ---------------------------------------- 0.0/1.8 MB ? eta -:--:--\n",
      "   ----- ---------------------------------- 0.3/1.8 MB ? eta -:--:--\n",
      "   ----------- ---------------------------- 0.5/1.8 MB 2.4 MB/s eta 0:00:01\n",
      "   ----------------------- ---------------- 1.0/1.8 MB 1.9 MB/s eta 0:00:01\n",
      "   ---------------------------------- ----- 1.6/1.8 MB 2.1 MB/s eta 0:00:01\n",
      "   ---------------------------------------- 1.8/1.8 MB 2.1 MB/s eta 0:00:00\n",
      "Installing collected packages: pip\n",
      "  Attempting uninstall: pip\n",
      "    Found existing installation: pip 24.2\n",
      "    Uninstalling pip-24.2:\n",
      "      Successfully uninstalled pip-24.2\n",
      "Successfully installed pip-24.3.1\n"
     ]
    },
    {
     "name": "stderr",
     "output_type": "stream",
     "text": [
      "  WARNING: The scripts pip.exe, pip3.12.exe and pip3.exe are installed in 'c:\\Users\\fruma\\AppData\\Local\\Programs\\Python\\Python312\\Scripts' which is not on PATH.\n",
      "  Consider adding this directory to PATH or, if you prefer to suppress this warning, use --no-warn-script-location.\n"
     ]
    }
   ],
   "source": [
    "pip install --upgrade pip"
   ]
  },
  {
   "cell_type": "code",
   "execution_count": 14,
   "metadata": {},
   "outputs": [
    {
     "name": "stdout",
     "output_type": "stream",
     "text": [
      "Collecting pillow\n",
      "  Downloading pillow-11.0.0-cp312-cp312-win_amd64.whl.metadata (9.3 kB)\n",
      "Downloading pillow-11.0.0-cp312-cp312-win_amd64.whl (2.6 MB)\n",
      "   ---------------------------------------- 0.0/2.6 MB ? eta -:--:--\n",
      "   ---------------------------------------- 0.0/2.6 MB ? eta -:--:--\n",
      "   ---- ----------------------------------- 0.3/2.6 MB ? eta -:--:--\n",
      "   ------------ --------------------------- 0.8/2.6 MB 2.0 MB/s eta 0:00:01\n",
      "   ---------------- ----------------------- 1.0/2.6 MB 2.0 MB/s eta 0:00:01\n",
      "   ---------------- ----------------------- 1.0/2.6 MB 2.0 MB/s eta 0:00:01\n",
      "   ------------------------ --------------- 1.6/2.6 MB 1.6 MB/s eta 0:00:01\n",
      "   -------------------------------- ------- 2.1/2.6 MB 1.8 MB/s eta 0:00:01\n",
      "   ------------------------------------ --- 2.4/2.6 MB 1.7 MB/s eta 0:00:01\n",
      "   ---------------------------------------- 2.6/2.6 MB 1.7 MB/s eta 0:00:00\n",
      "Installing collected packages: pillow\n",
      "Successfully installed pillow-11.0.0\n",
      "Note: you may need to restart the kernel to use updated packages.\n"
     ]
    }
   ],
   "source": [
    "pip install pillow"
   ]
  },
  {
   "cell_type": "code",
   "execution_count": 19,
   "metadata": {},
   "outputs": [
    {
     "name": "stdout",
     "output_type": "stream",
     "text": [
      "Requirement already satisfied: qrcode[pil] in c:\\users\\fruma\\appdata\\local\\programs\\python\\python312\\lib\\site-packages (8.0)\n",
      "Requirement already satisfied: colorama in c:\\users\\fruma\\appdata\\local\\programs\\python\\python312\\lib\\site-packages (from qrcode[pil]) (0.4.6)\n",
      "Requirement already satisfied: pillow>=9.1.0 in c:\\users\\fruma\\appdata\\local\\programs\\python\\python312\\lib\\site-packages (from qrcode[pil]) (11.0.0)\n",
      "Note: you may need to restart the kernel to use updated packages.\n"
     ]
    }
   ],
   "source": [
    "pip install qrcode[pil]"
   ]
  },
  {
   "cell_type": "code",
   "execution_count": 22,
   "metadata": {},
   "outputs": [],
   "source": [
    "# qrcode generator\n",
    "import qrcode\n",
    "from PIL import Image\n",
    "\n",
    "def data_entry():\n",
    "    return input(\"Enter data: \")\n",
    "\n",
    "def generate_qrcode_image(data):\n",
    "    qr = qrcode.QRCode(version=2, border=4, box_size=10)\n",
    "    qr.add_data(data)\n",
    "    qr.make(fit=True)\n",
    "    image = qr.make_image(fill='black', back_color='white')\n",
    "    image.save('qrcode.jpg')\n",
    "    with Image.open('qrcode.jpg') as img:\n",
    "        img.show()\n",
    "    \n",
    "\n",
    "def main():\n",
    "    data = data_entry()\n",
    "    generate_qrcode_image(data)\n",
    "\n",
    "main()\n",
    "\n",
    "\n"
   ]
  },
  {
   "cell_type": "code",
   "execution_count": 29,
   "metadata": {},
   "outputs": [
    {
     "name": "stdout",
     "output_type": "stream",
     "text": [
      "398731\n"
     ]
    }
   ],
   "source": [
    "# otp generation program\n",
    "\n",
    "import secrets\n",
    "\n",
    "def generate_otp(length=6):\n",
    "    return ''.join(str(secrets.randbelow(10)) for _ in range(length))\n",
    "\n",
    "print(generate_otp())"
   ]
  },
  {
   "cell_type": "code",
   "execution_count": 32,
   "metadata": {},
   "outputs": [
    {
     "name": "stdout",
     "output_type": "stream",
     "text": [
      "Requirement already satisfied: rembg in c:\\users\\fruma\\appdata\\local\\programs\\python\\python312\\lib\\site-packages (2.0.59)\n",
      "Requirement already satisfied: jsonschema in c:\\users\\fruma\\appdata\\local\\programs\\python\\python312\\lib\\site-packages (from rembg) (4.23.0)\n",
      "Requirement already satisfied: numpy in c:\\users\\fruma\\appdata\\local\\programs\\python\\python312\\lib\\site-packages (from rembg) (2.0.2)\n",
      "Requirement already satisfied: onnxruntime in c:\\users\\fruma\\appdata\\local\\programs\\python\\python312\\lib\\site-packages (from rembg) (1.20.0)\n",
      "Requirement already satisfied: opencv-python-headless in c:\\users\\fruma\\appdata\\local\\programs\\python\\python312\\lib\\site-packages (from rembg) (4.10.0.84)\n",
      "Requirement already satisfied: pillow in c:\\users\\fruma\\appdata\\local\\programs\\python\\python312\\lib\\site-packages (from rembg) (11.0.0)\n",
      "Requirement already satisfied: pooch in c:\\users\\fruma\\appdata\\local\\programs\\python\\python312\\lib\\site-packages (from rembg) (1.8.2)\n",
      "Requirement already satisfied: pymatting in c:\\users\\fruma\\appdata\\local\\programs\\python\\python312\\lib\\site-packages (from rembg) (1.1.12)\n",
      "Requirement already satisfied: scikit-image in c:\\users\\fruma\\appdata\\local\\programs\\python\\python312\\lib\\site-packages (from rembg) (0.24.0)\n",
      "Requirement already satisfied: scipy in c:\\users\\fruma\\appdata\\local\\programs\\python\\python312\\lib\\site-packages (from rembg) (1.14.1)\n",
      "Requirement already satisfied: tqdm in c:\\users\\fruma\\appdata\\local\\programs\\python\\python312\\lib\\site-packages (from rembg) (4.66.6)\n",
      "Requirement already satisfied: attrs>=22.2.0 in c:\\users\\fruma\\appdata\\local\\programs\\python\\python312\\lib\\site-packages (from jsonschema->rembg) (24.2.0)\n",
      "Requirement already satisfied: jsonschema-specifications>=2023.03.6 in c:\\users\\fruma\\appdata\\local\\programs\\python\\python312\\lib\\site-packages (from jsonschema->rembg) (2023.12.1)\n",
      "Requirement already satisfied: referencing>=0.28.4 in c:\\users\\fruma\\appdata\\local\\programs\\python\\python312\\lib\\site-packages (from jsonschema->rembg) (0.35.1)\n",
      "Requirement already satisfied: rpds-py>=0.7.1 in c:\\users\\fruma\\appdata\\local\\programs\\python\\python312\\lib\\site-packages (from jsonschema->rembg) (0.20.0)\n",
      "Requirement already satisfied: coloredlogs in c:\\users\\fruma\\appdata\\local\\programs\\python\\python312\\lib\\site-packages (from onnxruntime->rembg) (15.0.1)\n",
      "Requirement already satisfied: flatbuffers in c:\\users\\fruma\\appdata\\local\\programs\\python\\python312\\lib\\site-packages (from onnxruntime->rembg) (24.3.25)\n",
      "Requirement already satisfied: packaging in c:\\users\\fruma\\appdata\\local\\programs\\python\\python312\\lib\\site-packages (from onnxruntime->rembg) (24.1)\n",
      "Requirement already satisfied: protobuf in c:\\users\\fruma\\appdata\\local\\programs\\python\\python312\\lib\\site-packages (from onnxruntime->rembg) (5.28.3)\n",
      "Requirement already satisfied: sympy in c:\\users\\fruma\\appdata\\local\\programs\\python\\python312\\lib\\site-packages (from onnxruntime->rembg) (1.13.3)\n",
      "Requirement already satisfied: platformdirs>=2.5.0 in c:\\users\\fruma\\appdata\\local\\programs\\python\\python312\\lib\\site-packages (from pooch->rembg) (4.3.6)\n",
      "Requirement already satisfied: requests>=2.19.0 in c:\\users\\fruma\\appdata\\local\\programs\\python\\python312\\lib\\site-packages (from pooch->rembg) (2.32.3)\n",
      "Requirement already satisfied: numba!=0.49.0 in c:\\users\\fruma\\appdata\\local\\programs\\python\\python312\\lib\\site-packages (from pymatting->rembg) (0.60.0)\n",
      "Requirement already satisfied: networkx>=2.8 in c:\\users\\fruma\\appdata\\local\\programs\\python\\python312\\lib\\site-packages (from scikit-image->rembg) (3.4.2)\n",
      "Requirement already satisfied: imageio>=2.33 in c:\\users\\fruma\\appdata\\local\\programs\\python\\python312\\lib\\site-packages (from scikit-image->rembg) (2.36.0)\n",
      "Requirement already satisfied: tifffile>=2022.8.12 in c:\\users\\fruma\\appdata\\local\\programs\\python\\python312\\lib\\site-packages (from scikit-image->rembg) (2024.9.20)\n",
      "Requirement already satisfied: lazy-loader>=0.4 in c:\\users\\fruma\\appdata\\local\\programs\\python\\python312\\lib\\site-packages (from scikit-image->rembg) (0.4)\n",
      "Requirement already satisfied: colorama in c:\\users\\fruma\\appdata\\local\\programs\\python\\python312\\lib\\site-packages (from tqdm->rembg) (0.4.6)\n",
      "Requirement already satisfied: llvmlite<0.44,>=0.43.0dev0 in c:\\users\\fruma\\appdata\\local\\programs\\python\\python312\\lib\\site-packages (from numba!=0.49.0->pymatting->rembg) (0.43.0)\n",
      "Requirement already satisfied: charset-normalizer<4,>=2 in c:\\users\\fruma\\appdata\\local\\programs\\python\\python312\\lib\\site-packages (from requests>=2.19.0->pooch->rembg) (3.3.2)\n",
      "Requirement already satisfied: idna<4,>=2.5 in c:\\users\\fruma\\appdata\\local\\programs\\python\\python312\\lib\\site-packages (from requests>=2.19.0->pooch->rembg) (3.10)\n",
      "Requirement already satisfied: urllib3<3,>=1.21.1 in c:\\users\\fruma\\appdata\\local\\programs\\python\\python312\\lib\\site-packages (from requests>=2.19.0->pooch->rembg) (2.2.3)\n",
      "Requirement already satisfied: certifi>=2017.4.17 in c:\\users\\fruma\\appdata\\local\\programs\\python\\python312\\lib\\site-packages (from requests>=2.19.0->pooch->rembg) (2024.8.30)\n",
      "Requirement already satisfied: humanfriendly>=9.1 in c:\\users\\fruma\\appdata\\local\\programs\\python\\python312\\lib\\site-packages (from coloredlogs->onnxruntime->rembg) (10.0)\n",
      "Requirement already satisfied: mpmath<1.4,>=1.1.0 in c:\\users\\fruma\\appdata\\local\\programs\\python\\python312\\lib\\site-packages (from sympy->onnxruntime->rembg) (1.3.0)\n",
      "Requirement already satisfied: pyreadline3 in c:\\users\\fruma\\appdata\\local\\programs\\python\\python312\\lib\\site-packages (from humanfriendly>=9.1->coloredlogs->onnxruntime->rembg) (3.5.4)\n",
      "Note: you may need to restart the kernel to use updated packages.\n"
     ]
    }
   ],
   "source": [
    "pip install rembg"
   ]
  },
  {
   "cell_type": "code",
   "execution_count": null,
   "metadata": {},
   "outputs": [],
   "source": [
    "# remove bg code\n",
    "from rembg import remove\n",
    "from PIL import Image\n",
    "\n",
    "image = Image.open('portrait.jpg')\n",
    "output = remove(image)\n",
    "output.save('no-bg.png')\n",
    "Image.open('no-bg.png')\n"
   ]
  },
  {
   "cell_type": "code",
   "execution_count": 34,
   "metadata": {},
   "outputs": [
    {
     "name": "stdout",
     "output_type": "stream",
     "text": [
      "Collecting textblobNote: you may need to restart the kernel to use updated packages.\n"
     ]
    },
    {
     "name": "stderr",
     "output_type": "stream",
     "text": [
      "  WARNING: The script nltk.exe is installed in 'c:\\Users\\fruma\\AppData\\Local\\Programs\\Python\\Python312\\Scripts' which is not on PATH.\n",
      "  Consider adding this directory to PATH or, if you prefer to suppress this warning, use --no-warn-script-location.\n"
     ]
    },
    {
     "name": "stdout",
     "output_type": "stream",
     "text": [
      "\n",
      "  Downloading textblob-0.18.0.post0-py3-none-any.whl.metadata (4.5 kB)\n",
      "Collecting nltk>=3.8 (from textblob)\n",
      "  Downloading nltk-3.9.1-py3-none-any.whl.metadata (2.9 kB)\n",
      "Collecting click (from nltk>=3.8->textblob)\n",
      "  Downloading click-8.1.7-py3-none-any.whl.metadata (3.0 kB)\n",
      "Collecting joblib (from nltk>=3.8->textblob)\n",
      "  Downloading joblib-1.4.2-py3-none-any.whl.metadata (5.4 kB)\n",
      "Collecting regex>=2021.8.3 (from nltk>=3.8->textblob)\n",
      "  Downloading regex-2024.9.11-cp312-cp312-win_amd64.whl.metadata (41 kB)\n",
      "Requirement already satisfied: tqdm in c:\\users\\fruma\\appdata\\local\\programs\\python\\python312\\lib\\site-packages (from nltk>=3.8->textblob) (4.66.6)\n",
      "Requirement already satisfied: colorama in c:\\users\\fruma\\appdata\\local\\programs\\python\\python312\\lib\\site-packages (from click->nltk>=3.8->textblob) (0.4.6)\n",
      "Downloading textblob-0.18.0.post0-py3-none-any.whl (626 kB)\n",
      "   ---------------------------------------- 0.0/626.3 kB ? eta -:--:--\n",
      "   ---------------------------------------- 0.0/626.3 kB ? eta -:--:--\n",
      "   ---------------- ----------------------- 262.1/626.3 kB ? eta -:--:--\n",
      "   --------------------------------- ------ 524.3/626.3 kB 1.5 MB/s eta 0:00:01\n",
      "   ---------------------------------------- 626.3/626.3 kB 1.5 MB/s eta 0:00:00\n",
      "Downloading nltk-3.9.1-py3-none-any.whl (1.5 MB)\n",
      "   ---------------------------------------- 0.0/1.5 MB ? eta -:--:--\n",
      "   ---------------------------------------- 0.0/1.5 MB ? eta -:--:--\n",
      "   ------------- -------------------------- 0.5/1.5 MB 1.7 MB/s eta 0:00:01\n",
      "   -------------------- ------------------- 0.8/1.5 MB 1.5 MB/s eta 0:00:01\n",
      "   --------------------------- ------------ 1.0/1.5 MB 1.7 MB/s eta 0:00:01\n",
      "   ---------------------------------- ----- 1.3/1.5 MB 1.4 MB/s eta 0:00:01\n",
      "   ---------------------------------------- 1.5/1.5 MB 1.5 MB/s eta 0:00:00\n",
      "Downloading regex-2024.9.11-cp312-cp312-win_amd64.whl (273 kB)\n",
      "Downloading click-8.1.7-py3-none-any.whl (97 kB)\n",
      "Downloading joblib-1.4.2-py3-none-any.whl (301 kB)\n",
      "Installing collected packages: regex, joblib, click, nltk, textblob\n",
      "Successfully installed click-8.1.7 joblib-1.4.2 nltk-3.9.1 regex-2024.9.11 textblob-0.18.0.post0\n"
     ]
    }
   ],
   "source": [
    "pip install textblob"
   ]
  },
  {
   "cell_type": "code",
   "execution_count": 42,
   "metadata": {},
   "outputs": [
    {
     "name": "stdout",
     "output_type": "stream",
     "text": [
      "this is what you entered: in the beginning, microsft and apple created technolog to transform computer science. This is what pave the way to advanced tech \n",
      "This is the correct grammar: in the beginning, microsft and apple created technology to transform computer science. His is what have the way to advanced teach\n"
     ]
    }
   ],
   "source": [
    "from textblob import TextBlob\n",
    "\n",
    "def corrected_grammar(text):\n",
    "    return str(TextBlob(text).correct())\n",
    "\n",
    "def main():\n",
    "    text = input(\"Enter incorrect grammar: \")\n",
    "    corrected = corrected_grammar(text)\n",
    "    print(f'this is what you entered: {text} \\nThis is the correct grammar: {corrected}')\n",
    "\n",
    "main()"
   ]
  },
  {
   "cell_type": "code",
   "execution_count": null,
   "metadata": {},
   "outputs": [],
   "source": []
  }
 ],
 "metadata": {
  "kernelspec": {
   "display_name": "Python 3",
   "language": "python",
   "name": "python3"
  },
  "language_info": {
   "codemirror_mode": {
    "name": "ipython",
    "version": 3
   },
   "file_extension": ".py",
   "mimetype": "text/x-python",
   "name": "python",
   "nbconvert_exporter": "python",
   "pygments_lexer": "ipython3",
   "version": "3.12.6"
  }
 },
 "nbformat": 4,
 "nbformat_minor": 2
}
