{
 "cells": [
  {
   "cell_type": "code",
   "execution_count": 13,
   "metadata": {},
   "outputs": [
    {
     "name": "stdout",
     "output_type": "stream",
     "text": [
      "1\n",
      "[1, 2, 3, 4, 5, 6, 7, 8, 9, 10]\n",
      "[1, 2, 3, 4, 5]\n",
      "[6, 7, 8, 9, 10]\n",
      "[1, 2, 3, 4, 5]\n",
      "[1, 2, 3, 4, 5, 6, 7, 8, 9, 10, 1, 2, 3, 4, 5]\n",
      "[1, 2, 3, 4, 5, 6, 7, 8, 9, 10]\n"
     ]
    }
   ],
   "source": [
    "# 1. the main revision of list\n",
    "\n",
    "numbers = list(range(1, 11))\n",
    "print(numbers[0])\n",
    "# print(numbers[-5]) # --> negative integers\n",
    "print(numbers)\n",
    "\n",
    "# list slices\n",
    "print(numbers[:5]) # different ways of using slices\n",
    "print(numbers[5:]) # different ways of using slices\n",
    "\n",
    "# making new list from previous list\n",
    "new_numbers = numbers[:5]\n",
    "print(new_numbers)\n",
    "\n",
    "# concatenating list\n",
    "all_numbers = numbers + new_numbers\n",
    "print(all_numbers)\n",
    "\n",
    "# deleting from the list\n",
    "del all_numbers[10:] # deleted a slice\n",
    "print(all_numbers)\n",
    "\n",
    "\n",
    "\n",
    "\n"
   ]
  }
 ],
 "metadata": {
  "kernelspec": {
   "display_name": "base",
   "language": "python",
   "name": "python3"
  },
  "language_info": {
   "codemirror_mode": {
    "name": "ipython",
    "version": 3
   },
   "file_extension": ".py",
   "mimetype": "text/x-python",
   "name": "python",
   "nbconvert_exporter": "python",
   "pygments_lexer": "ipython3",
   "version": "3.9.12"
  }
 },
 "nbformat": 4,
 "nbformat_minor": 2
}
